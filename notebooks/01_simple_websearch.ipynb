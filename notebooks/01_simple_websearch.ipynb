{
 "cells": [
  {
   "cell_type": "markdown",
   "id": "4af25c6b-1d62-4850-995c-0aa18b21ac01",
   "metadata": {},
   "source": [
    "## Simple web search with phidata and Ollama\n",
    "\n",
    "This script demonstrates the creation and usage of a Web Agent that leverages Ollama with a small language model and the DuckDuckGo search tool to respond to user queries.\n",
    "Let's break down the key components:\n"
   ]
  },
  {
   "cell_type": "markdown",
   "id": "c898cbcc-1b19-4dd6-8800-095e75869bcb",
   "metadata": {},
   "source": [
    "## Overview\n",
    "First we'll import all the necessary packages and modules:\n"
   ]
  },
  {
   "cell_type": "code",
   "execution_count": 1,
   "id": "50af1d47-424c-48b7-9c3d-a1334adf04e0",
   "metadata": {},
   "outputs": [],
   "source": [
    "from phi.agent import Agent\n",
    "from phi.model.ollama import OllamaTools\n",
    "from phi.tools.duckduckgo import DuckDuckGo"
   ]
  },
  {
   "cell_type": "markdown",
   "id": "32225d31-80a9-41bc-8345-0a061e4b246d",
   "metadata": {},
   "source": [
    "We are using the OllamaTools module that supports function calling via XML tags. A workaround that works with most models and doesn't need \"native function-calling\" support. We also import the DuckDuckGo tool that provides web and news search functions.\n",
    "\n",
    "Now we are defining an agent, but first we will define the Ollama host to either run Ollama locally or call a remote Ollama server:"
   ]
  },
  {
   "cell_type": "code",
   "execution_count": 2,
   "id": "6053a1f8-82b5-4d6c-9b1e-b02e858bdf5f",
   "metadata": {},
   "outputs": [],
   "source": [
    "OLLAMA_HOST=\"localhost\""
   ]
  },
  {
   "cell_type": "code",
   "execution_count": 3,
   "id": "7a2e9c0c-1229-40fa-bf78-d6907570792e",
   "metadata": {},
   "outputs": [],
   "source": [
    "simple_agent = Agent(\n",
    "    name=\"Simple Agent\",\n",
    "    model=OllamaTools(id=\"hermes3:8b-llama3.1-q8_0\", host=OLLAMA_HOST),\n",
    "    markdown=True,\n",
    ")"
   ]
  },
  {
   "cell_type": "code",
   "execution_count": 4,
   "id": "474498b1-2f0f-4616-a43e-99ee9ad3c8d0",
   "metadata": {},
   "outputs": [
    {
     "data": {
      "application/vnd.jupyter.widget-view+json": {
       "model_id": "05391a19be75415bb8e6a29fd7447e83",
       "version_major": 2,
       "version_minor": 0
      },
      "text/plain": [
       "Output()"
      ]
     },
     "metadata": {},
     "output_type": "display_data"
    },
    {
     "data": {
      "text/html": [
       "<pre style=\"white-space:pre;overflow-x:auto;line-height:normal;font-family:Menlo,'DejaVu Sans Mono',consolas,'Courier New',monospace\"></pre>\n"
      ],
      "text/plain": []
     },
     "metadata": {},
     "output_type": "display_data"
    }
   ],
   "source": [
    "simple_agent.print_response(\"What are the latest news from Darmstadt?\", stream=True)"
   ]
  },
  {
   "cell_type": "markdown",
   "id": "33c4cec8-53c4-4e73-9374-ec7501c9fca5",
   "metadata": {},
   "source": [
    "As you can see sometimes the model already knows quite a bit about Darmstadt, or think it does as it might hallucinate. We can try to avoid that but there's no guarantee that this will work."
   ]
  },
  {
   "cell_type": "code",
   "execution_count": 5,
   "id": "1dda0f3c-d4e7-4ed8-8d54-7c7a12ca6400",
   "metadata": {},
   "outputs": [],
   "source": [
    "simple_agent2 = Agent(\n",
    "    name=\"Simple Agent 2\",\n",
    "    model=OllamaTools(id=\"hermes3:8b-llama3.1-q8_0\", host=OLLAMA_HOST),\n",
    "    markdown=True,\n",
    "    prevent_hallucinations=True,\n",
    ")"
   ]
  },
  {
   "cell_type": "code",
   "execution_count": 6,
   "id": "e4940308-6b52-4b1f-986c-992954e06b07",
   "metadata": {},
   "outputs": [
    {
     "data": {
      "application/vnd.jupyter.widget-view+json": {
       "model_id": "13808038f14a4b668f6410c6ae844a5e",
       "version_major": 2,
       "version_minor": 0
      },
      "text/plain": [
       "Output()"
      ]
     },
     "metadata": {},
     "output_type": "display_data"
    },
    {
     "data": {
      "text/html": [
       "<pre style=\"white-space:pre;overflow-x:auto;line-height:normal;font-family:Menlo,'DejaVu Sans Mono',consolas,'Courier New',monospace\"></pre>\n"
      ],
      "text/plain": []
     },
     "metadata": {},
     "output_type": "display_data"
    }
   ],
   "source": [
    "simple_agent2.print_response(\"What are the latest news from Darmstadt?\", stream=True)"
   ]
  },
  {
   "cell_type": "markdown",
   "id": "0b55bde6-5e9e-4eec-903f-d2089c8a2eff",
   "metadata": {},
   "source": [
    "This output already looks much better than before but the best method to avoid hallucinations is to provide the LLM with a tool to search the web for information. Caveat: This doesn't guarantee that the information will be correct 😉"
   ]
  },
  {
   "cell_type": "code",
   "execution_count": 7,
   "id": "12a47f03-1805-4b9d-98ec-7c1f41c5f5ad",
   "metadata": {},
   "outputs": [],
   "source": [
    "web_agent = Agent(\n",
    "    name=\"Web Agent\",\n",
    "    #model=OllamaTools(id=\"llama3.2:3b-instruct-q8_0\"),\n",
    "    #model=OllamaTools(id=\"qwen2.5:3b-instruct-q8_0\"),\n",
    "    #model=OllamaTools(id=\"qwen2.5\"),\n",
    "    model=OllamaTools(id=\"hermes3:8b-llama3.1-q8_0\", host=OLLAMA_HOST),\n",
    "    tools=[DuckDuckGo()],\n",
    "    show_tool_calls=True,\n",
    "    markdown=True,\n",
    ")"
   ]
  },
  {
   "cell_type": "markdown",
   "id": "ad9c46d2-efe1-48ce-ad3d-927bab1c286f",
   "metadata": {},
   "source": [
    "We'll use the Hermes 3 8B model fine-tuned on Llama 3.1 with Q8 quantization. This model has worked best in our tests with tools/function calling. Feel free to try smaller models like the 3B Qwen 2.5 or Llama 3.2. These smaller models might not work all the time.\n",
    "\n",
    "Now that the agent is defined and has access to DuckDuckGo web search we can ask it about what's happening in Darmstadt. We set `show_tool_calls` to `True` to see which tools the agent is calling with which parameters."
   ]
  },
  {
   "cell_type": "code",
   "execution_count": 8,
   "id": "9bef64d1-38dc-4799-b452-0c4f55fc2508",
   "metadata": {},
   "outputs": [
    {
     "data": {
      "application/vnd.jupyter.widget-view+json": {
       "model_id": "f0974a9efca643f188b42f8a46924f90",
       "version_major": 2,
       "version_minor": 0
      },
      "text/plain": [
       "Output()"
      ]
     },
     "metadata": {},
     "output_type": "display_data"
    },
    {
     "data": {
      "text/html": [
       "<pre style=\"white-space:pre;overflow-x:auto;line-height:normal;font-family:Menlo,'DejaVu Sans Mono',consolas,'Courier New',monospace\"></pre>\n"
      ],
      "text/plain": []
     },
     "metadata": {},
     "output_type": "display_data"
    }
   ],
   "source": [
    "web_agent.print_response(\"What are the latest news from Darmstadt?\", stream=True)"
   ]
  },
  {
   "cell_type": "markdown",
   "id": "c41e9efc-3ac5-4462-bfb4-68898e499274",
   "metadata": {},
   "source": [
    "Congratulations, you have run your first basic agent."
   ]
  }
 ],
 "metadata": {
  "kernelspec": {
   "display_name": "Python 3 (ipykernel)",
   "language": "python",
   "name": "python3"
  },
  "language_info": {
   "codemirror_mode": {
    "name": "ipython",
    "version": 3
   },
   "file_extension": ".py",
   "mimetype": "text/x-python",
   "name": "python",
   "nbconvert_exporter": "python",
   "pygments_lexer": "ipython3",
   "version": "3.10.10"
  }
 },
 "nbformat": 4,
 "nbformat_minor": 5
}

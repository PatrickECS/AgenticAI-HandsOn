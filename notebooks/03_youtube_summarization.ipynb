{
 "cells": [
  {
   "cell_type": "code",
   "execution_count": 1,
   "id": "7c30861b-0ba9-4424-b653-689663b845e2",
   "metadata": {},
   "outputs": [],
   "source": [
    "from phi.agent import Agent\n",
    "from phi.model.ollama import OllamaTools\n",
    "from phi.tools.youtube_tools import YouTubeTools"
   ]
  },
  {
   "cell_type": "code",
   "execution_count": 2,
   "id": "92aef3ea-e380-4832-83a7-e695fccdc4a0",
   "metadata": {},
   "outputs": [],
   "source": [
    "OLLAMA_HOST=\"localhost\""
   ]
  },
  {
   "cell_type": "markdown",
   "id": "67ccb9b2-7f75-478e-89b0-adeb0c4cd53e",
   "metadata": {},
   "source": [
    "Again we'll increase the context to have space for the YT captions as the instructions and tool section will already take around 800 tokens."
   ]
  },
  {
   "cell_type": "code",
   "execution_count": 3,
   "id": "faef5cc8-147c-43a4-a740-86122916b1cd",
   "metadata": {},
   "outputs": [
    {
     "data": {
      "text/html": [
       "<pre style=\"white-space:pre;overflow-x:auto;line-height:normal;font-family:Menlo,'DejaVu Sans Mono',consolas,'Courier New',monospace\"><span style=\"color: #008000; text-decoration-color: #008000\">DEBUG   </span> Debug logs enabled                                                                                        \n",
       "</pre>\n"
      ],
      "text/plain": [
       "\u001b[32mDEBUG   \u001b[0m Debug logs enabled                                                                                        \n"
      ]
     },
     "metadata": {},
     "output_type": "display_data"
    }
   ],
   "source": [
    "agent = Agent(\n",
    "    model=OllamaTools(id=\"hermes3:8b-llama3.1-q8_0\", options={\"num_ctx\": 4096}, host=OLLAMA_HOST),\n",
    "    tools=[YouTubeTools()],\n",
    "    show_tool_calls=True,\n",
    "    description=\"You are a YouTube agent. Obtain the captions of a YouTube video and answer questions.\",\n",
    "    debug_mode=True,\n",
    ")"
   ]
  },
  {
   "cell_type": "markdown",
   "id": "cbdf959f-6831-42de-9cb3-54fd87a3a7ca",
   "metadata": {},
   "source": [
    "This time we've enabled debug_mode to see exactly what the agent is doing."
   ]
  },
  {
   "cell_type": "code",
   "execution_count": 4,
   "id": "a59bb0a8-c28e-42df-91c7-7ba00226faa8",
   "metadata": {},
   "outputs": [
    {
     "data": {
      "text/html": [
       "<pre style=\"white-space:pre;overflow-x:auto;line-height:normal;font-family:Menlo,'DejaVu Sans Mono',consolas,'Courier New',monospace\"><span style=\"color: #008000; text-decoration-color: #008000\">DEBUG   </span> *********** Agent Run Start: <span style=\"color: #ffff00; text-decoration-color: #ffff00\">f302cc00-fbca-4a0d-bcb9-f0639990473d</span> ***********                             \n",
       "</pre>\n"
      ],
      "text/plain": [
       "\u001b[32mDEBUG   \u001b[0m *********** Agent Run Start: \u001b[93mf302cc00-fbca-4a0d-bcb9-f0639990473d\u001b[0m ***********                             \n"
      ]
     },
     "metadata": {},
     "output_type": "display_data"
    },
    {
     "data": {
      "text/html": [
       "<pre style=\"white-space:pre;overflow-x:auto;line-height:normal;font-family:Menlo,'DejaVu Sans Mono',consolas,'Courier New',monospace\"><span style=\"color: #008000; text-decoration-color: #008000\">DEBUG   </span> Function get_youtube_video_captions from youtube_tools added to model.                                    \n",
       "</pre>\n"
      ],
      "text/plain": [
       "\u001b[32mDEBUG   \u001b[0m Function get_youtube_video_captions from youtube_tools added to model.                                    \n"
      ]
     },
     "metadata": {},
     "output_type": "display_data"
    },
    {
     "data": {
      "text/html": [
       "<pre style=\"white-space:pre;overflow-x:auto;line-height:normal;font-family:Menlo,'DejaVu Sans Mono',consolas,'Courier New',monospace\"><span style=\"color: #008000; text-decoration-color: #008000\">DEBUG   </span> Function get_youtube_video_data from youtube_tools added to model.                                        \n",
       "</pre>\n"
      ],
      "text/plain": [
       "\u001b[32mDEBUG   \u001b[0m Function get_youtube_video_data from youtube_tools added to model.                                        \n"
      ]
     },
     "metadata": {},
     "output_type": "display_data"
    },
    {
     "data": {
      "text/html": [
       "<pre style=\"white-space:pre;overflow-x:auto;line-height:normal;font-family:Menlo,'DejaVu Sans Mono',consolas,'Courier New',monospace\"><span style=\"color: #008000; text-decoration-color: #008000\">DEBUG   </span> ---------- Ollama Response Start ----------                                                               \n",
       "</pre>\n"
      ],
      "text/plain": [
       "\u001b[32mDEBUG   \u001b[0m ---------- Ollama Response Start ----------                                                               \n"
      ]
     },
     "metadata": {},
     "output_type": "display_data"
    },
    {
     "data": {
      "text/html": [
       "<pre style=\"white-space:pre;overflow-x:auto;line-height:normal;font-family:Menlo,'DejaVu Sans Mono',consolas,'Courier New',monospace\"><span style=\"color: #008000; text-decoration-color: #008000\">DEBUG   </span> ============== system ==============                                                                      \n",
       "</pre>\n"
      ],
      "text/plain": [
       "\u001b[32mDEBUG   \u001b[0m ============== system ==============                                                                      \n"
      ]
     },
     "metadata": {},
     "output_type": "display_data"
    },
    {
     "data": {
      "text/html": [
       "<pre style=\"white-space:pre;overflow-x:auto;line-height:normal;font-family:Menlo,'DejaVu Sans Mono',consolas,'Courier New',monospace\"><span style=\"color: #008000; text-decoration-color: #008000\">DEBUG   </span> You are a YouTube agent. Obtain the captions of a YouTube video and answer questions.                     \n",
       "                                                                                                                   \n",
       "         ## Instructions                                                                                           \n",
       "         - At the very first turn you don't have <span style=\"font-weight: bold\">&lt;</span><span style=\"color: #ff00ff; text-decoration-color: #ff00ff; font-weight: bold\">tool_results</span><span style=\"color: #000000; text-decoration-color: #000000\">&gt; so you shouldn't not make up the results.</span>          \n",
       "         <span style=\"color: #000000; text-decoration-color: #000000\">- To respond to the users message, you can use only one tool at a time.</span>                                   \n",
       "         <span style=\"color: #000000; text-decoration-color: #000000\">- When using a tool, only respond with the tool call. Nothing else. Do not add any additional notes, </span>     \n",
       "         <span style=\"color: #000000; text-decoration-color: #000000\">explanations or white space.</span>                                                                              \n",
       "         <span style=\"color: #000000; text-decoration-color: #000000\">- Do not stop calling functions until the task has been accomplished or you've reached max iteration of </span>  \n",
       "         <span style=\"color: #008080; text-decoration-color: #008080; font-weight: bold\">10</span><span style=\"color: #000000; text-decoration-color: #000000\">.</span>                                                                                                       \n",
       "                                                                                                                   \n",
       "         <span style=\"color: #000000; text-decoration-color: #000000\">You are a function calling AI model with self-recursion.</span>                                                  \n",
       "         <span style=\"color: #000000; text-decoration-color: #000000\">You are provided with function signatures within &lt;tools&gt;&lt;</span><span style=\"color: #800080; text-decoration-color: #800080\">/</span><span style=\"color: #ff00ff; text-decoration-color: #ff00ff\">tools</span><span style=\"color: #000000; text-decoration-color: #000000\">&gt; XML tags.</span>                                \n",
       "         <span style=\"color: #000000; text-decoration-color: #000000\">You may use agentic frameworks for reasoning and planning to help with user query.</span>                        \n",
       "         <span style=\"color: #000000; text-decoration-color: #000000\">Please call a function and wait for function results to be provided to you in the next iteration.</span>         \n",
       "         <span style=\"color: #000000; text-decoration-color: #000000\">Don't make assumptions about what values to plug into functions.</span>                                          \n",
       "         <span style=\"color: #000000; text-decoration-color: #000000\">When you call a function, don't add any additional notes, explanations or white space.</span>                    \n",
       "         <span style=\"color: #000000; text-decoration-color: #000000\">Once you have called a function, results will be provided to you within &lt;tool_response&gt;&lt;</span><span style=\"color: #800080; text-decoration-color: #800080\">/</span><span style=\"color: #ff00ff; text-decoration-color: #ff00ff\">tool_response</span><span style=\"color: #000000; text-decoration-color: #000000\">&gt; </span>  \n",
       "         <span style=\"color: #000000; text-decoration-color: #000000\">XML tags.</span>                                                                                                 \n",
       "         <span style=\"color: #000000; text-decoration-color: #000000\">Do not make assumptions about tool results if &lt;tool_response&gt; XML tags are not present since the function </span>\n",
       "         <span style=\"color: #000000; text-decoration-color: #000000\">is not yet executed.</span>                                                                                      \n",
       "         <span style=\"color: #000000; text-decoration-color: #000000\">Analyze the results once you get them and call another function if needed.</span>                                \n",
       "         <span style=\"color: #000000; text-decoration-color: #000000\">Your final response should directly answer the user query with an analysis or summary of the results of </span>  \n",
       "         <span style=\"color: #000000; text-decoration-color: #000000\">function calls.</span>                                                                                           \n",
       "                                                                                                                   \n",
       "         <span style=\"color: #000000; text-decoration-color: #000000\">Here are the available tools:</span>                                                                             \n",
       "         <span style=\"color: #000000; text-decoration-color: #000000\">&lt;tools&gt;</span>                                                                                                   \n",
       "         <span style=\"color: #000000; text-decoration-color: #000000; font-weight: bold\">{</span>                                                                                                         \n",
       "         <span style=\"color: #000000; text-decoration-color: #000000\">  </span><span style=\"color: #008000; text-decoration-color: #008000\">\"name\"</span><span style=\"color: #000000; text-decoration-color: #000000\">: </span><span style=\"color: #008000; text-decoration-color: #008000\">\"get_youtube_video_captions\"</span><span style=\"color: #000000; text-decoration-color: #000000\">,</span>                                                                   \n",
       "         <span style=\"color: #000000; text-decoration-color: #000000\">  </span><span style=\"color: #008000; text-decoration-color: #008000\">\"description\"</span><span style=\"color: #000000; text-decoration-color: #000000\">: </span><span style=\"color: #008000; text-decoration-color: #008000\">\"Use this function to get captions from a YouTube video.\\n\\nArgs:\\n    url: The URL of </span>  \n",
       "         <span style=\"color: #008000; text-decoration-color: #008000\">the YouTube video.\\n\\nReturns:\\n    str: The captions of the YouTube video.\"</span><span style=\"color: #000000; text-decoration-color: #000000\">,</span>                             \n",
       "         <span style=\"color: #000000; text-decoration-color: #000000\">  </span><span style=\"color: #008000; text-decoration-color: #008000\">\"arguments\"</span><span style=\"color: #000000; text-decoration-color: #000000\">: </span><span style=\"color: #000000; text-decoration-color: #000000; font-weight: bold\">{</span>                                                                                          \n",
       "         <span style=\"color: #000000; text-decoration-color: #000000\">    </span><span style=\"color: #008000; text-decoration-color: #008000\">\"url\"</span><span style=\"color: #000000; text-decoration-color: #000000\">: </span><span style=\"color: #000000; text-decoration-color: #000000; font-weight: bold\">{</span>                                                                                              \n",
       "         <span style=\"color: #000000; text-decoration-color: #000000\">      </span><span style=\"color: #008000; text-decoration-color: #008000\">\"type\"</span><span style=\"color: #000000; text-decoration-color: #000000\">: </span><span style=\"color: #008000; text-decoration-color: #008000\">\"string\"</span>                                                                                    \n",
       "         <span style=\"color: #000000; text-decoration-color: #000000\">    </span><span style=\"color: #000000; text-decoration-color: #000000; font-weight: bold\">}</span>                                                                                                     \n",
       "         <span style=\"color: #000000; text-decoration-color: #000000\">  </span><span style=\"color: #000000; text-decoration-color: #000000; font-weight: bold\">}</span><span style=\"color: #000000; text-decoration-color: #000000\">,</span>                                                                                                      \n",
       "         <span style=\"color: #000000; text-decoration-color: #000000\">  </span><span style=\"color: #008000; text-decoration-color: #008000\">\"returns\"</span><span style=\"color: #000000; text-decoration-color: #000000\">: </span><span style=\"color: #008000; text-decoration-color: #008000\">\"str\"</span>                                                                                        \n",
       "         <span style=\"color: #000000; text-decoration-color: #000000; font-weight: bold\">}</span>                                                                                                         \n",
       "         <span style=\"color: #000000; text-decoration-color: #000000; font-weight: bold\">{</span>                                                                                                         \n",
       "         <span style=\"color: #000000; text-decoration-color: #000000\">  </span><span style=\"color: #008000; text-decoration-color: #008000\">\"name\"</span><span style=\"color: #000000; text-decoration-color: #000000\">: </span><span style=\"color: #008000; text-decoration-color: #008000\">\"get_youtube_video_data\"</span><span style=\"color: #000000; text-decoration-color: #000000\">,</span>                                                                       \n",
       "         <span style=\"color: #000000; text-decoration-color: #000000\">  </span><span style=\"color: #008000; text-decoration-color: #008000\">\"description\"</span><span style=\"color: #000000; text-decoration-color: #000000\">: </span><span style=\"color: #008000; text-decoration-color: #008000\">\"Function to get video data from a YouTube URL.\\nData returned includes {title, </span>         \n",
       "         <span style=\"color: #008000; text-decoration-color: #008000\">author_name, author_url, type, height, width, version, provider_name, provider_url, </span>                      \n",
       "         <span style=\"color: #008000; text-decoration-color: #008000\">thumbnail_url}\\n\\nArgs:\\n    url: The URL of the YouTube video.\\n\\nReturns:\\n    str: JSON data of the </span>   \n",
       "         <span style=\"color: #008000; text-decoration-color: #008000\">YouTube video.\"</span><span style=\"color: #000000; text-decoration-color: #000000\">,</span>                                                                                          \n",
       "         <span style=\"color: #000000; text-decoration-color: #000000\">  </span><span style=\"color: #008000; text-decoration-color: #008000\">\"arguments\"</span><span style=\"color: #000000; text-decoration-color: #000000\">: </span><span style=\"color: #000000; text-decoration-color: #000000; font-weight: bold\">{</span>                                                                                          \n",
       "         <span style=\"color: #000000; text-decoration-color: #000000\">    </span><span style=\"color: #008000; text-decoration-color: #008000\">\"url\"</span><span style=\"color: #000000; text-decoration-color: #000000\">: </span><span style=\"color: #000000; text-decoration-color: #000000; font-weight: bold\">{</span>                                                                                              \n",
       "         <span style=\"color: #000000; text-decoration-color: #000000\">      </span><span style=\"color: #008000; text-decoration-color: #008000\">\"type\"</span><span style=\"color: #000000; text-decoration-color: #000000\">: </span><span style=\"color: #008000; text-decoration-color: #008000\">\"string\"</span>                                                                                    \n",
       "         <span style=\"color: #000000; text-decoration-color: #000000\">    </span><span style=\"color: #000000; text-decoration-color: #000000; font-weight: bold\">}</span>                                                                                                     \n",
       "         <span style=\"color: #000000; text-decoration-color: #000000\">  </span><span style=\"color: #000000; text-decoration-color: #000000; font-weight: bold\">}</span><span style=\"color: #000000; text-decoration-color: #000000\">,</span>                                                                                                      \n",
       "         <span style=\"color: #000000; text-decoration-color: #000000\">  </span><span style=\"color: #008000; text-decoration-color: #008000\">\"returns\"</span><span style=\"color: #000000; text-decoration-color: #000000\">: </span><span style=\"color: #008000; text-decoration-color: #008000\">\"str\"</span>                                                                                        \n",
       "         <span style=\"color: #000000; text-decoration-color: #000000; font-weight: bold\">}</span>                                                                                                         \n",
       "         <span style=\"color: #000000; text-decoration-color: #000000\">&lt;</span><span style=\"color: #800080; text-decoration-color: #800080\">/</span><span style=\"color: #ff00ff; text-decoration-color: #ff00ff\">tools</span><span style=\"color: #000000; text-decoration-color: #000000\">&gt;</span>                                                                                                  \n",
       "                                                                                                                   \n",
       "         <span style=\"color: #000000; text-decoration-color: #000000\">Use the following pydantic model json schema for each tool call you will make: </span><span style=\"color: #000000; text-decoration-color: #000000; font-weight: bold\">{</span><span style=\"color: #008000; text-decoration-color: #008000\">'title'</span><span style=\"color: #000000; text-decoration-color: #000000\">: </span><span style=\"color: #008000; text-decoration-color: #008000\">'FunctionCall'</span><span style=\"color: #000000; text-decoration-color: #000000\">, </span> \n",
       "         <span style=\"color: #008000; text-decoration-color: #008000\">'type'</span><span style=\"color: #000000; text-decoration-color: #000000\">: </span><span style=\"color: #008000; text-decoration-color: #008000\">'object'</span><span style=\"color: #000000; text-decoration-color: #000000\">, </span><span style=\"color: #008000; text-decoration-color: #008000\">'properties'</span><span style=\"color: #000000; text-decoration-color: #000000\">: </span><span style=\"color: #000000; text-decoration-color: #000000; font-weight: bold\">{</span><span style=\"color: #008000; text-decoration-color: #008000\">'arguments'</span><span style=\"color: #000000; text-decoration-color: #000000\">: </span><span style=\"color: #000000; text-decoration-color: #000000; font-weight: bold\">{</span><span style=\"color: #008000; text-decoration-color: #008000\">'title'</span><span style=\"color: #000000; text-decoration-color: #000000\">: </span><span style=\"color: #008000; text-decoration-color: #008000\">'Arguments'</span><span style=\"color: #000000; text-decoration-color: #000000\">, </span><span style=\"color: #008000; text-decoration-color: #008000\">'type'</span><span style=\"color: #000000; text-decoration-color: #000000\">: </span><span style=\"color: #008000; text-decoration-color: #008000\">'object'</span><span style=\"color: #000000; text-decoration-color: #000000; font-weight: bold\">}</span><span style=\"color: #000000; text-decoration-color: #000000\">, </span><span style=\"color: #008000; text-decoration-color: #008000\">'name'</span><span style=\"color: #000000; text-decoration-color: #000000\">: </span><span style=\"color: #000000; text-decoration-color: #000000; font-weight: bold\">{</span><span style=\"color: #008000; text-decoration-color: #008000\">'title'</span><span style=\"color: #000000; text-decoration-color: #000000\">: </span>\n",
       "         <span style=\"color: #008000; text-decoration-color: #008000\">'Name'</span><span style=\"color: #000000; text-decoration-color: #000000\">, </span><span style=\"color: #008000; text-decoration-color: #008000\">'type'</span><span style=\"color: #000000; text-decoration-color: #000000\">: </span><span style=\"color: #008000; text-decoration-color: #008000\">'string'</span><span style=\"color: #000000; text-decoration-color: #000000; font-weight: bold\">}}</span><span style=\"color: #000000; text-decoration-color: #000000\">, </span><span style=\"color: #008000; text-decoration-color: #008000\">'required'</span><span style=\"color: #000000; text-decoration-color: #000000\">: </span><span style=\"color: #000000; text-decoration-color: #000000; font-weight: bold\">[</span><span style=\"color: #008000; text-decoration-color: #008000\">'arguments'</span><span style=\"color: #000000; text-decoration-color: #000000\">, </span><span style=\"color: #008000; text-decoration-color: #008000\">'name'</span><span style=\"color: #000000; text-decoration-color: #000000; font-weight: bold\">]}</span>                                            \n",
       "         <span style=\"color: #000000; text-decoration-color: #000000\">For each function call return a json object with function name and arguments within </span>                      \n",
       "         <span style=\"color: #000000; text-decoration-color: #000000\">&lt;tool_call&gt;&lt;</span><span style=\"color: #800080; text-decoration-color: #800080\">/</span><span style=\"color: #ff00ff; text-decoration-color: #ff00ff\">tool_call</span><span style=\"color: #000000; text-decoration-color: #000000\">&gt; XML tags as follows:</span>                                                              \n",
       "         <span style=\"color: #000000; text-decoration-color: #000000\">&lt;tool_call&gt;</span>                                                                                               \n",
       "         <span style=\"color: #000000; text-decoration-color: #000000; font-weight: bold\">{</span><span style=\"color: #008000; text-decoration-color: #008000\">\"arguments\"</span><span style=\"color: #000000; text-decoration-color: #000000\">: &lt;args-dict&gt;, </span><span style=\"color: #008000; text-decoration-color: #008000\">\"name\"</span><span style=\"color: #000000; text-decoration-color: #000000\">: &lt;function-name&gt;</span><span style=\"color: #000000; text-decoration-color: #000000; font-weight: bold\">}</span>                                                       \n",
       "         <span style=\"color: #000000; text-decoration-color: #000000\">&lt;</span><span style=\"color: #800080; text-decoration-color: #800080\">/</span><span style=\"color: #ff00ff; text-decoration-color: #ff00ff\">tool_call</span><span style=\"font-weight: bold\">&gt;</span>                                                                                              \n",
       "</pre>\n"
      ],
      "text/plain": [
       "\u001b[32mDEBUG   \u001b[0m You are a YouTube agent. Obtain the captions of a YouTube video and answer questions.                     \n",
       "                                                                                                                   \n",
       "         ## Instructions                                                                                           \n",
       "         - At the very first turn you don't have \u001b[1m<\u001b[0m\u001b[1;95mtool_results\u001b[0m\u001b[39m> so you shouldn't not make up the results.\u001b[0m          \n",
       "         \u001b[39m- To respond to the users message, you can use only one tool at a time.\u001b[0m                                   \n",
       "         \u001b[39m- When using a tool, only respond with the tool call. Nothing else. Do not add any additional notes, \u001b[0m     \n",
       "         \u001b[39mexplanations or white space.\u001b[0m                                                                              \n",
       "         \u001b[39m- Do not stop calling functions until the task has been accomplished or you've reached max iteration of \u001b[0m  \n",
       "         \u001b[1;36m10\u001b[0m\u001b[39m.\u001b[0m                                                                                                       \n",
       "                                                                                                                   \n",
       "         \u001b[39mYou are a function calling AI model with self-recursion.\u001b[0m                                                  \n",
       "         \u001b[39mYou are provided with function signatures within <tools><\u001b[0m\u001b[35m/\u001b[0m\u001b[95mtools\u001b[0m\u001b[39m> XML tags.\u001b[0m                                \n",
       "         \u001b[39mYou may use agentic frameworks for reasoning and planning to help with user query.\u001b[0m                        \n",
       "         \u001b[39mPlease call a function and wait for function results to be provided to you in the next iteration.\u001b[0m         \n",
       "         \u001b[39mDon't make assumptions about what values to plug into functions.\u001b[0m                                          \n",
       "         \u001b[39mWhen you call a function, don't add any additional notes, explanations or white space.\u001b[0m                    \n",
       "         \u001b[39mOnce you have called a function, results will be provided to you within <tool_response><\u001b[0m\u001b[35m/\u001b[0m\u001b[95mtool_response\u001b[0m\u001b[39m> \u001b[0m  \n",
       "         \u001b[39mXML tags.\u001b[0m                                                                                                 \n",
       "         \u001b[39mDo not make assumptions about tool results if <tool_response> XML tags are not present since the function \u001b[0m\n",
       "         \u001b[39mis not yet executed.\u001b[0m                                                                                      \n",
       "         \u001b[39mAnalyze the results once you get them and call another function if needed.\u001b[0m                                \n",
       "         \u001b[39mYour final response should directly answer the user query with an analysis or summary of the results of \u001b[0m  \n",
       "         \u001b[39mfunction calls.\u001b[0m                                                                                           \n",
       "                                                                                                                   \n",
       "         \u001b[39mHere are the available tools:\u001b[0m                                                                             \n",
       "         \u001b[39m<tools>\u001b[0m                                                                                                   \n",
       "         \u001b[1;39m{\u001b[0m                                                                                                         \n",
       "         \u001b[39m  \u001b[0m\u001b[32m\"name\"\u001b[0m\u001b[39m: \u001b[0m\u001b[32m\"get_youtube_video_captions\"\u001b[0m\u001b[39m,\u001b[0m                                                                   \n",
       "         \u001b[39m  \u001b[0m\u001b[32m\"description\"\u001b[0m\u001b[39m: \u001b[0m\u001b[32m\"Use this function to get captions from a YouTube video.\\n\\nArgs:\\n    url: The URL of \u001b[0m  \n",
       "         \u001b[32mthe YouTube video.\\n\\nReturns:\\n    str: The captions of the YouTube video.\"\u001b[0m\u001b[39m,\u001b[0m                             \n",
       "         \u001b[39m  \u001b[0m\u001b[32m\"arguments\"\u001b[0m\u001b[39m: \u001b[0m\u001b[1;39m{\u001b[0m                                                                                          \n",
       "         \u001b[39m    \u001b[0m\u001b[32m\"url\"\u001b[0m\u001b[39m: \u001b[0m\u001b[1;39m{\u001b[0m                                                                                              \n",
       "         \u001b[39m      \u001b[0m\u001b[32m\"type\"\u001b[0m\u001b[39m: \u001b[0m\u001b[32m\"string\"\u001b[0m                                                                                    \n",
       "         \u001b[39m    \u001b[0m\u001b[1;39m}\u001b[0m                                                                                                     \n",
       "         \u001b[39m  \u001b[0m\u001b[1;39m}\u001b[0m\u001b[39m,\u001b[0m                                                                                                      \n",
       "         \u001b[39m  \u001b[0m\u001b[32m\"returns\"\u001b[0m\u001b[39m: \u001b[0m\u001b[32m\"str\"\u001b[0m                                                                                        \n",
       "         \u001b[1;39m}\u001b[0m                                                                                                         \n",
       "         \u001b[1;39m{\u001b[0m                                                                                                         \n",
       "         \u001b[39m  \u001b[0m\u001b[32m\"name\"\u001b[0m\u001b[39m: \u001b[0m\u001b[32m\"get_youtube_video_data\"\u001b[0m\u001b[39m,\u001b[0m                                                                       \n",
       "         \u001b[39m  \u001b[0m\u001b[32m\"description\"\u001b[0m\u001b[39m: \u001b[0m\u001b[32m\"Function to get video data from a YouTube URL.\\nData returned includes \u001b[0m\u001b[32m{\u001b[0m\u001b[32mtitle, \u001b[0m         \n",
       "         \u001b[32mauthor_name, author_url, type, height, width, version, provider_name, provider_url, \u001b[0m                      \n",
       "         \u001b[32mthumbnail_url\u001b[0m\u001b[32m}\u001b[0m\u001b[32m\\n\\nArgs:\\n    url: The URL of the YouTube video.\\n\\nReturns:\\n    str: JSON data of the \u001b[0m   \n",
       "         \u001b[32mYouTube video.\"\u001b[0m\u001b[39m,\u001b[0m                                                                                          \n",
       "         \u001b[39m  \u001b[0m\u001b[32m\"arguments\"\u001b[0m\u001b[39m: \u001b[0m\u001b[1;39m{\u001b[0m                                                                                          \n",
       "         \u001b[39m    \u001b[0m\u001b[32m\"url\"\u001b[0m\u001b[39m: \u001b[0m\u001b[1;39m{\u001b[0m                                                                                              \n",
       "         \u001b[39m      \u001b[0m\u001b[32m\"type\"\u001b[0m\u001b[39m: \u001b[0m\u001b[32m\"string\"\u001b[0m                                                                                    \n",
       "         \u001b[39m    \u001b[0m\u001b[1;39m}\u001b[0m                                                                                                     \n",
       "         \u001b[39m  \u001b[0m\u001b[1;39m}\u001b[0m\u001b[39m,\u001b[0m                                                                                                      \n",
       "         \u001b[39m  \u001b[0m\u001b[32m\"returns\"\u001b[0m\u001b[39m: \u001b[0m\u001b[32m\"str\"\u001b[0m                                                                                        \n",
       "         \u001b[1;39m}\u001b[0m                                                                                                         \n",
       "         \u001b[39m<\u001b[0m\u001b[35m/\u001b[0m\u001b[95mtools\u001b[0m\u001b[39m>\u001b[0m                                                                                                  \n",
       "                                                                                                                   \n",
       "         \u001b[39mUse the following pydantic model json schema for each tool call you will make: \u001b[0m\u001b[1;39m{\u001b[0m\u001b[32m'title'\u001b[0m\u001b[39m: \u001b[0m\u001b[32m'FunctionCall'\u001b[0m\u001b[39m, \u001b[0m \n",
       "         \u001b[32m'type'\u001b[0m\u001b[39m: \u001b[0m\u001b[32m'object'\u001b[0m\u001b[39m, \u001b[0m\u001b[32m'properties'\u001b[0m\u001b[39m: \u001b[0m\u001b[1;39m{\u001b[0m\u001b[32m'arguments'\u001b[0m\u001b[39m: \u001b[0m\u001b[1;39m{\u001b[0m\u001b[32m'title'\u001b[0m\u001b[39m: \u001b[0m\u001b[32m'Arguments'\u001b[0m\u001b[39m, \u001b[0m\u001b[32m'type'\u001b[0m\u001b[39m: \u001b[0m\u001b[32m'object'\u001b[0m\u001b[1;39m}\u001b[0m\u001b[39m, \u001b[0m\u001b[32m'name'\u001b[0m\u001b[39m: \u001b[0m\u001b[1;39m{\u001b[0m\u001b[32m'title'\u001b[0m\u001b[39m: \u001b[0m\n",
       "         \u001b[32m'Name'\u001b[0m\u001b[39m, \u001b[0m\u001b[32m'type'\u001b[0m\u001b[39m: \u001b[0m\u001b[32m'string'\u001b[0m\u001b[1;39m}\u001b[0m\u001b[1;39m}\u001b[0m\u001b[39m, \u001b[0m\u001b[32m'required'\u001b[0m\u001b[39m: \u001b[0m\u001b[1;39m[\u001b[0m\u001b[32m'arguments'\u001b[0m\u001b[39m, \u001b[0m\u001b[32m'name'\u001b[0m\u001b[1;39m]\u001b[0m\u001b[1;39m}\u001b[0m                                            \n",
       "         \u001b[39mFor each function call return a json object with function name and arguments within \u001b[0m                      \n",
       "         \u001b[39m<tool_call><\u001b[0m\u001b[35m/\u001b[0m\u001b[95mtool_call\u001b[0m\u001b[39m> XML tags as follows:\u001b[0m                                                              \n",
       "         \u001b[39m<tool_call>\u001b[0m                                                                                               \n",
       "         \u001b[1;39m{\u001b[0m\u001b[32m\"arguments\"\u001b[0m\u001b[39m: <args-dict>, \u001b[0m\u001b[32m\"name\"\u001b[0m\u001b[39m: <function-name>\u001b[0m\u001b[1;39m}\u001b[0m                                                       \n",
       "         \u001b[39m<\u001b[0m\u001b[35m/\u001b[0m\u001b[95mtool_call\u001b[0m\u001b[1m>\u001b[0m                                                                                              \n"
      ]
     },
     "metadata": {},
     "output_type": "display_data"
    },
    {
     "data": {
      "text/html": [
       "<pre style=\"white-space:pre;overflow-x:auto;line-height:normal;font-family:Menlo,'DejaVu Sans Mono',consolas,'Courier New',monospace\"><span style=\"color: #008000; text-decoration-color: #008000\">DEBUG   </span> ============== user ==============                                                                        \n",
       "</pre>\n"
      ],
      "text/plain": [
       "\u001b[32mDEBUG   \u001b[0m ============== user ==============                                                                        \n"
      ]
     },
     "metadata": {},
     "output_type": "display_data"
    },
    {
     "data": {
      "text/html": [
       "<pre style=\"white-space:pre;overflow-x:auto;line-height:normal;font-family:Menlo,'DejaVu Sans Mono',consolas,'Courier New',monospace\"><span style=\"color: #008000; text-decoration-color: #008000\">DEBUG   </span> Summarize this video <span style=\"color: #0000ff; text-decoration-color: #0000ff; text-decoration: underline\">https://www.youtube.com/watch?v=98UeougY0zQ</span>                                          \n",
       "</pre>\n"
      ],
      "text/plain": [
       "\u001b[32mDEBUG   \u001b[0m Summarize this video \u001b[4;94mhttps://www.youtube.com/watch?\u001b[0m\u001b[4;94mv\u001b[0m\u001b[4;94m=\u001b[0m\u001b[4;94m98UeougY0zQ\u001b[0m                                          \n"
      ]
     },
     "metadata": {},
     "output_type": "display_data"
    },
    {
     "data": {
      "text/html": [
       "<pre style=\"white-space:pre;overflow-x:auto;line-height:normal;font-family:Menlo,'DejaVu Sans Mono',consolas,'Courier New',monospace\"><span style=\"color: #008000; text-decoration-color: #008000\">DEBUG   </span> ============== assistant ==============                                                                   \n",
       "</pre>\n"
      ],
      "text/plain": [
       "\u001b[32mDEBUG   \u001b[0m ============== assistant ==============                                                                   \n"
      ]
     },
     "metadata": {},
     "output_type": "display_data"
    },
    {
     "data": {
      "text/html": [
       "<pre style=\"white-space:pre;overflow-x:auto;line-height:normal;font-family:Menlo,'DejaVu Sans Mono',consolas,'Courier New',monospace\"><span style=\"color: #008000; text-decoration-color: #008000\">DEBUG   </span>                                                                                                           \n",
       "         <span style=\"font-weight: bold\">&lt;</span><span style=\"color: #ff00ff; text-decoration-color: #ff00ff; font-weight: bold\">tool_call</span><span style=\"color: #000000; text-decoration-color: #000000\">&gt;</span>                                                                                               \n",
       "         <span style=\"color: #000000; text-decoration-color: #000000; font-weight: bold\">{</span><span style=\"color: #008000; text-decoration-color: #008000\">\"arguments\"</span><span style=\"color: #000000; text-decoration-color: #000000\">: </span><span style=\"color: #000000; text-decoration-color: #000000; font-weight: bold\">{</span><span style=\"color: #008000; text-decoration-color: #008000\">\"url\"</span><span style=\"color: #000000; text-decoration-color: #000000\">: </span><span style=\"color: #008000; text-decoration-color: #008000\">\"https://www.youtube.com/watch?v=98UeougY0zQ\"</span><span style=\"color: #000000; text-decoration-color: #000000; font-weight: bold\">}</span><span style=\"color: #000000; text-decoration-color: #000000\">, </span><span style=\"color: #008000; text-decoration-color: #008000\">\"name\"</span><span style=\"color: #000000; text-decoration-color: #000000\">: </span>                            \n",
       "         <span style=\"color: #008000; text-decoration-color: #008000\">\"get_youtube_video_captions\"</span><span style=\"color: #000000; text-decoration-color: #000000; font-weight: bold\">}</span>                                                                             \n",
       "         <span style=\"color: #000000; text-decoration-color: #000000\">&lt;</span><span style=\"color: #800080; text-decoration-color: #800080\">/</span><span style=\"color: #ff00ff; text-decoration-color: #ff00ff\">tool_call</span><span style=\"font-weight: bold\">&gt;</span>                                                                                              \n",
       "</pre>\n"
      ],
      "text/plain": [
       "\u001b[32mDEBUG   \u001b[0m                                                                                                           \n",
       "         \u001b[1m<\u001b[0m\u001b[1;95mtool_call\u001b[0m\u001b[39m>\u001b[0m                                                                                               \n",
       "         \u001b[1;39m{\u001b[0m\u001b[32m\"arguments\"\u001b[0m\u001b[39m: \u001b[0m\u001b[1;39m{\u001b[0m\u001b[32m\"url\"\u001b[0m\u001b[39m: \u001b[0m\u001b[32m\"https://www.youtube.com/watch?\u001b[0m\u001b[32mv\u001b[0m\u001b[32m=\u001b[0m\u001b[32m98UeougY0zQ\"\u001b[0m\u001b[1;39m}\u001b[0m\u001b[39m, \u001b[0m\u001b[32m\"name\"\u001b[0m\u001b[39m: \u001b[0m                            \n",
       "         \u001b[32m\"get_youtube_video_captions\"\u001b[0m\u001b[1;39m}\u001b[0m                                                                             \n",
       "         \u001b[39m<\u001b[0m\u001b[35m/\u001b[0m\u001b[95mtool_call\u001b[0m\u001b[1m>\u001b[0m                                                                                              \n"
      ]
     },
     "metadata": {},
     "output_type": "display_data"
    },
    {
     "data": {
      "text/html": [
       "<pre style=\"white-space:pre;overflow-x:auto;line-height:normal;font-family:Menlo,'DejaVu Sans Mono',consolas,'Courier New',monospace\"><span style=\"color: #008000; text-decoration-color: #008000\">DEBUG   </span> Tool Calls: <span style=\"font-weight: bold\">[</span>                                                                                             \n",
       "           <span style=\"font-weight: bold\">{</span>                                                                                                       \n",
       "             <span style=\"color: #008000; text-decoration-color: #008000\">\"type\"</span>: <span style=\"color: #008000; text-decoration-color: #008000\">\"function\"</span>,                                                                                   \n",
       "             <span style=\"color: #008000; text-decoration-color: #008000\">\"function\"</span>: <span style=\"font-weight: bold\">{</span>                                                                                         \n",
       "               <span style=\"color: #008000; text-decoration-color: #008000\">\"name\"</span>: <span style=\"color: #008000; text-decoration-color: #008000\">\"get_youtube_video_captions\"</span>,                                                               \n",
       "               <span style=\"color: #008000; text-decoration-color: #008000\">\"arguments\"</span>: <span style=\"color: #008000; text-decoration-color: #008000\">\"{\\\"url\\\": \\\"https://www.youtube.com/watch?v=98UeougY0zQ\\\"}\"</span>                           \n",
       "             <span style=\"font-weight: bold\">}</span>                                                                                                     \n",
       "           <span style=\"font-weight: bold\">}</span>                                                                                                       \n",
       "         <span style=\"font-weight: bold\">]</span>                                                                                                         \n",
       "</pre>\n"
      ],
      "text/plain": [
       "\u001b[32mDEBUG   \u001b[0m Tool Calls: \u001b[1m[\u001b[0m                                                                                             \n",
       "           \u001b[1m{\u001b[0m                                                                                                       \n",
       "             \u001b[32m\"type\"\u001b[0m: \u001b[32m\"function\"\u001b[0m,                                                                                   \n",
       "             \u001b[32m\"function\"\u001b[0m: \u001b[1m{\u001b[0m                                                                                         \n",
       "               \u001b[32m\"name\"\u001b[0m: \u001b[32m\"get_youtube_video_captions\"\u001b[0m,                                                               \n",
       "               \u001b[32m\"arguments\"\u001b[0m: \u001b[32m\"\u001b[0m\u001b[32m{\u001b[0m\u001b[32m\\\"url\\\": \\\"https://www.youtube.com/watch?\u001b[0m\u001b[32mv\u001b[0m\u001b[32m=\u001b[0m\u001b[32m98UeougY0zQ\u001b[0m\u001b[32m\\\"\u001b[0m\u001b[32m}\u001b[0m\u001b[32m\"\u001b[0m                           \n",
       "             \u001b[1m}\u001b[0m                                                                                                     \n",
       "           \u001b[1m}\u001b[0m                                                                                                       \n",
       "         \u001b[1m]\u001b[0m                                                                                                         \n"
      ]
     },
     "metadata": {},
     "output_type": "display_data"
    },
    {
     "data": {
      "text/html": [
       "<pre style=\"white-space:pre;overflow-x:auto;line-height:normal;font-family:Menlo,'DejaVu Sans Mono',consolas,'Courier New',monospace\"><span style=\"color: #008000; text-decoration-color: #008000\">DEBUG   </span> **************** METRICS START ****************                                                           \n",
       "</pre>\n"
      ],
      "text/plain": [
       "\u001b[32mDEBUG   \u001b[0m **************** METRICS START ****************                                                           \n"
      ]
     },
     "metadata": {},
     "output_type": "display_data"
    },
    {
     "data": {
      "text/html": [
       "<pre style=\"white-space:pre;overflow-x:auto;line-height:normal;font-family:Menlo,'DejaVu Sans Mono',consolas,'Courier New',monospace\"><span style=\"color: #008000; text-decoration-color: #008000\">DEBUG   </span> * Time to generate response:   <span style=\"color: #008080; text-decoration-color: #008080; font-weight: bold\">2.</span>3982s                                                                    \n",
       "</pre>\n"
      ],
      "text/plain": [
       "\u001b[32mDEBUG   \u001b[0m * Time to generate response:   \u001b[1;36m2.\u001b[0m3982s                                                                    \n"
      ]
     },
     "metadata": {},
     "output_type": "display_data"
    },
    {
     "data": {
      "text/html": [
       "<pre style=\"white-space:pre;overflow-x:auto;line-height:normal;font-family:Menlo,'DejaVu Sans Mono',consolas,'Courier New',monospace\"><span style=\"color: #008000; text-decoration-color: #008000\">DEBUG   </span> * Tokens per second:           <span style=\"color: #008080; text-decoration-color: #008080; font-weight: bold\">17.0963</span> tokens/s                                                           \n",
       "</pre>\n"
      ],
      "text/plain": [
       "\u001b[32mDEBUG   \u001b[0m * Tokens per second:           \u001b[1;36m17.0963\u001b[0m tokens/s                                                           \n"
      ]
     },
     "metadata": {},
     "output_type": "display_data"
    },
    {
     "data": {
      "text/html": [
       "<pre style=\"white-space:pre;overflow-x:auto;line-height:normal;font-family:Menlo,'DejaVu Sans Mono',consolas,'Courier New',monospace\"><span style=\"color: #008000; text-decoration-color: #008000\">DEBUG   </span> * Input tokens:                <span style=\"color: #008080; text-decoration-color: #008080; font-weight: bold\">643</span>                                                                        \n",
       "</pre>\n"
      ],
      "text/plain": [
       "\u001b[32mDEBUG   \u001b[0m * Input tokens:                \u001b[1;36m643\u001b[0m                                                                        \n"
      ]
     },
     "metadata": {},
     "output_type": "display_data"
    },
    {
     "data": {
      "text/html": [
       "<pre style=\"white-space:pre;overflow-x:auto;line-height:normal;font-family:Menlo,'DejaVu Sans Mono',consolas,'Courier New',monospace\"><span style=\"color: #008000; text-decoration-color: #008000\">DEBUG   </span> * Output tokens:               <span style=\"color: #008080; text-decoration-color: #008080; font-weight: bold\">41</span>                                                                         \n",
       "</pre>\n"
      ],
      "text/plain": [
       "\u001b[32mDEBUG   \u001b[0m * Output tokens:               \u001b[1;36m41\u001b[0m                                                                         \n"
      ]
     },
     "metadata": {},
     "output_type": "display_data"
    },
    {
     "data": {
      "text/html": [
       "<pre style=\"white-space:pre;overflow-x:auto;line-height:normal;font-family:Menlo,'DejaVu Sans Mono',consolas,'Courier New',monospace\"><span style=\"color: #008000; text-decoration-color: #008000\">DEBUG   </span> * Total tokens:                <span style=\"color: #008080; text-decoration-color: #008080; font-weight: bold\">684</span>                                                                        \n",
       "</pre>\n"
      ],
      "text/plain": [
       "\u001b[32mDEBUG   \u001b[0m * Total tokens:                \u001b[1;36m684\u001b[0m                                                                        \n"
      ]
     },
     "metadata": {},
     "output_type": "display_data"
    },
    {
     "data": {
      "text/html": [
       "<pre style=\"white-space:pre;overflow-x:auto;line-height:normal;font-family:Menlo,'DejaVu Sans Mono',consolas,'Courier New',monospace\"><span style=\"color: #008000; text-decoration-color: #008000\">DEBUG   </span> **************** METRICS END ******************                                                           \n",
       "</pre>\n"
      ],
      "text/plain": [
       "\u001b[32mDEBUG   \u001b[0m **************** METRICS END ******************                                                           \n"
      ]
     },
     "metadata": {},
     "output_type": "display_data"
    },
    {
     "data": {
      "text/html": [
       "<pre style=\"white-space:pre;overflow-x:auto;line-height:normal;font-family:Menlo,'DejaVu Sans Mono',consolas,'Courier New',monospace\"><span style=\"color: #008000; text-decoration-color: #008000\">DEBUG   </span> Getting function get_youtube_video_captions                                                               \n",
       "</pre>\n"
      ],
      "text/plain": [
       "\u001b[32mDEBUG   \u001b[0m Getting function get_youtube_video_captions                                                               \n"
      ]
     },
     "metadata": {},
     "output_type": "display_data"
    },
    {
     "data": {
      "text/html": [
       "<pre style=\"white-space:pre;overflow-x:auto;line-height:normal;font-family:Menlo,'DejaVu Sans Mono',consolas,'Courier New',monospace\"><span style=\"color: #008000; text-decoration-color: #008000\">DEBUG   </span> Running: <span style=\"color: #800080; text-decoration-color: #800080; font-weight: bold\">get_youtube_video_captions</span><span style=\"font-weight: bold\">(</span><span style=\"color: #808000; text-decoration-color: #808000\">url</span>=<span style=\"color: #0000ff; text-decoration-color: #0000ff; text-decoration: underline\">https://www.youtube.com/watch?v=98UeougY0zQ)</span>                      \n",
       "</pre>\n"
      ],
      "text/plain": [
       "\u001b[32mDEBUG   \u001b[0m Running: \u001b[1;35mget_youtube_video_captions\u001b[0m\u001b[1m(\u001b[0m\u001b[33murl\u001b[0m=\u001b[4;94mhttps\u001b[0m\u001b[4;94m://www.youtube.com/watch?\u001b[0m\u001b[4;94mv\u001b[0m\u001b[4;94m=\u001b[0m\u001b[4;94m98UeougY0zQ\u001b[0m\u001b[4;94m)\u001b[0m                      \n"
      ]
     },
     "metadata": {},
     "output_type": "display_data"
    },
    {
     "data": {
      "text/html": [
       "<pre style=\"white-space:pre;overflow-x:auto;line-height:normal;font-family:Menlo,'DejaVu Sans Mono',consolas,'Courier New',monospace\"><span style=\"color: #008000; text-decoration-color: #008000\">DEBUG   </span> ---------- Ollama Response Start ----------                                                               \n",
       "</pre>\n"
      ],
      "text/plain": [
       "\u001b[32mDEBUG   \u001b[0m ---------- Ollama Response Start ----------                                                               \n"
      ]
     },
     "metadata": {},
     "output_type": "display_data"
    },
    {
     "data": {
      "text/html": [
       "<pre style=\"white-space:pre;overflow-x:auto;line-height:normal;font-family:Menlo,'DejaVu Sans Mono',consolas,'Courier New',monospace\"><span style=\"color: #008000; text-decoration-color: #008000\">DEBUG   </span> ============== system ==============                                                                      \n",
       "</pre>\n"
      ],
      "text/plain": [
       "\u001b[32mDEBUG   \u001b[0m ============== system ==============                                                                      \n"
      ]
     },
     "metadata": {},
     "output_type": "display_data"
    },
    {
     "data": {
      "text/html": [
       "<pre style=\"white-space:pre;overflow-x:auto;line-height:normal;font-family:Menlo,'DejaVu Sans Mono',consolas,'Courier New',monospace\"><span style=\"color: #008000; text-decoration-color: #008000\">DEBUG   </span> You are a YouTube agent. Obtain the captions of a YouTube video and answer questions.                     \n",
       "                                                                                                                   \n",
       "         ## Instructions                                                                                           \n",
       "         - At the very first turn you don't have <span style=\"font-weight: bold\">&lt;</span><span style=\"color: #ff00ff; text-decoration-color: #ff00ff; font-weight: bold\">tool_results</span><span style=\"color: #000000; text-decoration-color: #000000\">&gt; so you shouldn't not make up the results.</span>          \n",
       "         <span style=\"color: #000000; text-decoration-color: #000000\">- To respond to the users message, you can use only one tool at a time.</span>                                   \n",
       "         <span style=\"color: #000000; text-decoration-color: #000000\">- When using a tool, only respond with the tool call. Nothing else. Do not add any additional notes, </span>     \n",
       "         <span style=\"color: #000000; text-decoration-color: #000000\">explanations or white space.</span>                                                                              \n",
       "         <span style=\"color: #000000; text-decoration-color: #000000\">- Do not stop calling functions until the task has been accomplished or you've reached max iteration of </span>  \n",
       "         <span style=\"color: #008080; text-decoration-color: #008080; font-weight: bold\">10</span><span style=\"color: #000000; text-decoration-color: #000000\">.</span>                                                                                                       \n",
       "                                                                                                                   \n",
       "         <span style=\"color: #000000; text-decoration-color: #000000\">You are a function calling AI model with self-recursion.</span>                                                  \n",
       "         <span style=\"color: #000000; text-decoration-color: #000000\">You are provided with function signatures within &lt;tools&gt;&lt;</span><span style=\"color: #800080; text-decoration-color: #800080\">/</span><span style=\"color: #ff00ff; text-decoration-color: #ff00ff\">tools</span><span style=\"color: #000000; text-decoration-color: #000000\">&gt; XML tags.</span>                                \n",
       "         <span style=\"color: #000000; text-decoration-color: #000000\">You may use agentic frameworks for reasoning and planning to help with user query.</span>                        \n",
       "         <span style=\"color: #000000; text-decoration-color: #000000\">Please call a function and wait for function results to be provided to you in the next iteration.</span>         \n",
       "         <span style=\"color: #000000; text-decoration-color: #000000\">Don't make assumptions about what values to plug into functions.</span>                                          \n",
       "         <span style=\"color: #000000; text-decoration-color: #000000\">When you call a function, don't add any additional notes, explanations or white space.</span>                    \n",
       "         <span style=\"color: #000000; text-decoration-color: #000000\">Once you have called a function, results will be provided to you within &lt;tool_response&gt;&lt;</span><span style=\"color: #800080; text-decoration-color: #800080\">/</span><span style=\"color: #ff00ff; text-decoration-color: #ff00ff\">tool_response</span><span style=\"color: #000000; text-decoration-color: #000000\">&gt; </span>  \n",
       "         <span style=\"color: #000000; text-decoration-color: #000000\">XML tags.</span>                                                                                                 \n",
       "         <span style=\"color: #000000; text-decoration-color: #000000\">Do not make assumptions about tool results if &lt;tool_response&gt; XML tags are not present since the function </span>\n",
       "         <span style=\"color: #000000; text-decoration-color: #000000\">is not yet executed.</span>                                                                                      \n",
       "         <span style=\"color: #000000; text-decoration-color: #000000\">Analyze the results once you get them and call another function if needed.</span>                                \n",
       "         <span style=\"color: #000000; text-decoration-color: #000000\">Your final response should directly answer the user query with an analysis or summary of the results of </span>  \n",
       "         <span style=\"color: #000000; text-decoration-color: #000000\">function calls.</span>                                                                                           \n",
       "                                                                                                                   \n",
       "         <span style=\"color: #000000; text-decoration-color: #000000\">Here are the available tools:</span>                                                                             \n",
       "         <span style=\"color: #000000; text-decoration-color: #000000\">&lt;tools&gt;</span>                                                                                                   \n",
       "         <span style=\"color: #000000; text-decoration-color: #000000; font-weight: bold\">{</span>                                                                                                         \n",
       "         <span style=\"color: #000000; text-decoration-color: #000000\">  </span><span style=\"color: #008000; text-decoration-color: #008000\">\"name\"</span><span style=\"color: #000000; text-decoration-color: #000000\">: </span><span style=\"color: #008000; text-decoration-color: #008000\">\"get_youtube_video_captions\"</span><span style=\"color: #000000; text-decoration-color: #000000\">,</span>                                                                   \n",
       "         <span style=\"color: #000000; text-decoration-color: #000000\">  </span><span style=\"color: #008000; text-decoration-color: #008000\">\"description\"</span><span style=\"color: #000000; text-decoration-color: #000000\">: </span><span style=\"color: #008000; text-decoration-color: #008000\">\"Use this function to get captions from a YouTube video.\\n\\nArgs:\\n    url: The URL of </span>  \n",
       "         <span style=\"color: #008000; text-decoration-color: #008000\">the YouTube video.\\n\\nReturns:\\n    str: The captions of the YouTube video.\"</span><span style=\"color: #000000; text-decoration-color: #000000\">,</span>                             \n",
       "         <span style=\"color: #000000; text-decoration-color: #000000\">  </span><span style=\"color: #008000; text-decoration-color: #008000\">\"arguments\"</span><span style=\"color: #000000; text-decoration-color: #000000\">: </span><span style=\"color: #000000; text-decoration-color: #000000; font-weight: bold\">{</span>                                                                                          \n",
       "         <span style=\"color: #000000; text-decoration-color: #000000\">    </span><span style=\"color: #008000; text-decoration-color: #008000\">\"url\"</span><span style=\"color: #000000; text-decoration-color: #000000\">: </span><span style=\"color: #000000; text-decoration-color: #000000; font-weight: bold\">{</span>                                                                                              \n",
       "         <span style=\"color: #000000; text-decoration-color: #000000\">      </span><span style=\"color: #008000; text-decoration-color: #008000\">\"type\"</span><span style=\"color: #000000; text-decoration-color: #000000\">: </span><span style=\"color: #008000; text-decoration-color: #008000\">\"string\"</span>                                                                                    \n",
       "         <span style=\"color: #000000; text-decoration-color: #000000\">    </span><span style=\"color: #000000; text-decoration-color: #000000; font-weight: bold\">}</span>                                                                                                     \n",
       "         <span style=\"color: #000000; text-decoration-color: #000000\">  </span><span style=\"color: #000000; text-decoration-color: #000000; font-weight: bold\">}</span><span style=\"color: #000000; text-decoration-color: #000000\">,</span>                                                                                                      \n",
       "         <span style=\"color: #000000; text-decoration-color: #000000\">  </span><span style=\"color: #008000; text-decoration-color: #008000\">\"returns\"</span><span style=\"color: #000000; text-decoration-color: #000000\">: </span><span style=\"color: #008000; text-decoration-color: #008000\">\"str\"</span>                                                                                        \n",
       "         <span style=\"color: #000000; text-decoration-color: #000000; font-weight: bold\">}</span>                                                                                                         \n",
       "         <span style=\"color: #000000; text-decoration-color: #000000; font-weight: bold\">{</span>                                                                                                         \n",
       "         <span style=\"color: #000000; text-decoration-color: #000000\">  </span><span style=\"color: #008000; text-decoration-color: #008000\">\"name\"</span><span style=\"color: #000000; text-decoration-color: #000000\">: </span><span style=\"color: #008000; text-decoration-color: #008000\">\"get_youtube_video_data\"</span><span style=\"color: #000000; text-decoration-color: #000000\">,</span>                                                                       \n",
       "         <span style=\"color: #000000; text-decoration-color: #000000\">  </span><span style=\"color: #008000; text-decoration-color: #008000\">\"description\"</span><span style=\"color: #000000; text-decoration-color: #000000\">: </span><span style=\"color: #008000; text-decoration-color: #008000\">\"Function to get video data from a YouTube URL.\\nData returned includes {title, </span>         \n",
       "         <span style=\"color: #008000; text-decoration-color: #008000\">author_name, author_url, type, height, width, version, provider_name, provider_url, </span>                      \n",
       "         <span style=\"color: #008000; text-decoration-color: #008000\">thumbnail_url}\\n\\nArgs:\\n    url: The URL of the YouTube video.\\n\\nReturns:\\n    str: JSON data of the </span>   \n",
       "         <span style=\"color: #008000; text-decoration-color: #008000\">YouTube video.\"</span><span style=\"color: #000000; text-decoration-color: #000000\">,</span>                                                                                          \n",
       "         <span style=\"color: #000000; text-decoration-color: #000000\">  </span><span style=\"color: #008000; text-decoration-color: #008000\">\"arguments\"</span><span style=\"color: #000000; text-decoration-color: #000000\">: </span><span style=\"color: #000000; text-decoration-color: #000000; font-weight: bold\">{</span>                                                                                          \n",
       "         <span style=\"color: #000000; text-decoration-color: #000000\">    </span><span style=\"color: #008000; text-decoration-color: #008000\">\"url\"</span><span style=\"color: #000000; text-decoration-color: #000000\">: </span><span style=\"color: #000000; text-decoration-color: #000000; font-weight: bold\">{</span>                                                                                              \n",
       "         <span style=\"color: #000000; text-decoration-color: #000000\">      </span><span style=\"color: #008000; text-decoration-color: #008000\">\"type\"</span><span style=\"color: #000000; text-decoration-color: #000000\">: </span><span style=\"color: #008000; text-decoration-color: #008000\">\"string\"</span>                                                                                    \n",
       "         <span style=\"color: #000000; text-decoration-color: #000000\">    </span><span style=\"color: #000000; text-decoration-color: #000000; font-weight: bold\">}</span>                                                                                                     \n",
       "         <span style=\"color: #000000; text-decoration-color: #000000\">  </span><span style=\"color: #000000; text-decoration-color: #000000; font-weight: bold\">}</span><span style=\"color: #000000; text-decoration-color: #000000\">,</span>                                                                                                      \n",
       "         <span style=\"color: #000000; text-decoration-color: #000000\">  </span><span style=\"color: #008000; text-decoration-color: #008000\">\"returns\"</span><span style=\"color: #000000; text-decoration-color: #000000\">: </span><span style=\"color: #008000; text-decoration-color: #008000\">\"str\"</span>                                                                                        \n",
       "         <span style=\"color: #000000; text-decoration-color: #000000; font-weight: bold\">}</span>                                                                                                         \n",
       "         <span style=\"color: #000000; text-decoration-color: #000000\">&lt;</span><span style=\"color: #800080; text-decoration-color: #800080\">/</span><span style=\"color: #ff00ff; text-decoration-color: #ff00ff\">tools</span><span style=\"color: #000000; text-decoration-color: #000000\">&gt;</span>                                                                                                  \n",
       "                                                                                                                   \n",
       "         <span style=\"color: #000000; text-decoration-color: #000000\">Use the following pydantic model json schema for each tool call you will make: </span><span style=\"color: #000000; text-decoration-color: #000000; font-weight: bold\">{</span><span style=\"color: #008000; text-decoration-color: #008000\">'title'</span><span style=\"color: #000000; text-decoration-color: #000000\">: </span><span style=\"color: #008000; text-decoration-color: #008000\">'FunctionCall'</span><span style=\"color: #000000; text-decoration-color: #000000\">, </span> \n",
       "         <span style=\"color: #008000; text-decoration-color: #008000\">'type'</span><span style=\"color: #000000; text-decoration-color: #000000\">: </span><span style=\"color: #008000; text-decoration-color: #008000\">'object'</span><span style=\"color: #000000; text-decoration-color: #000000\">, </span><span style=\"color: #008000; text-decoration-color: #008000\">'properties'</span><span style=\"color: #000000; text-decoration-color: #000000\">: </span><span style=\"color: #000000; text-decoration-color: #000000; font-weight: bold\">{</span><span style=\"color: #008000; text-decoration-color: #008000\">'arguments'</span><span style=\"color: #000000; text-decoration-color: #000000\">: </span><span style=\"color: #000000; text-decoration-color: #000000; font-weight: bold\">{</span><span style=\"color: #008000; text-decoration-color: #008000\">'title'</span><span style=\"color: #000000; text-decoration-color: #000000\">: </span><span style=\"color: #008000; text-decoration-color: #008000\">'Arguments'</span><span style=\"color: #000000; text-decoration-color: #000000\">, </span><span style=\"color: #008000; text-decoration-color: #008000\">'type'</span><span style=\"color: #000000; text-decoration-color: #000000\">: </span><span style=\"color: #008000; text-decoration-color: #008000\">'object'</span><span style=\"color: #000000; text-decoration-color: #000000; font-weight: bold\">}</span><span style=\"color: #000000; text-decoration-color: #000000\">, </span><span style=\"color: #008000; text-decoration-color: #008000\">'name'</span><span style=\"color: #000000; text-decoration-color: #000000\">: </span><span style=\"color: #000000; text-decoration-color: #000000; font-weight: bold\">{</span><span style=\"color: #008000; text-decoration-color: #008000\">'title'</span><span style=\"color: #000000; text-decoration-color: #000000\">: </span>\n",
       "         <span style=\"color: #008000; text-decoration-color: #008000\">'Name'</span><span style=\"color: #000000; text-decoration-color: #000000\">, </span><span style=\"color: #008000; text-decoration-color: #008000\">'type'</span><span style=\"color: #000000; text-decoration-color: #000000\">: </span><span style=\"color: #008000; text-decoration-color: #008000\">'string'</span><span style=\"color: #000000; text-decoration-color: #000000; font-weight: bold\">}}</span><span style=\"color: #000000; text-decoration-color: #000000\">, </span><span style=\"color: #008000; text-decoration-color: #008000\">'required'</span><span style=\"color: #000000; text-decoration-color: #000000\">: </span><span style=\"color: #000000; text-decoration-color: #000000; font-weight: bold\">[</span><span style=\"color: #008000; text-decoration-color: #008000\">'arguments'</span><span style=\"color: #000000; text-decoration-color: #000000\">, </span><span style=\"color: #008000; text-decoration-color: #008000\">'name'</span><span style=\"color: #000000; text-decoration-color: #000000; font-weight: bold\">]}</span>                                            \n",
       "         <span style=\"color: #000000; text-decoration-color: #000000\">For each function call return a json object with function name and arguments within </span>                      \n",
       "         <span style=\"color: #000000; text-decoration-color: #000000\">&lt;tool_call&gt;&lt;</span><span style=\"color: #800080; text-decoration-color: #800080\">/</span><span style=\"color: #ff00ff; text-decoration-color: #ff00ff\">tool_call</span><span style=\"color: #000000; text-decoration-color: #000000\">&gt; XML tags as follows:</span>                                                              \n",
       "         <span style=\"color: #000000; text-decoration-color: #000000\">&lt;tool_call&gt;</span>                                                                                               \n",
       "         <span style=\"color: #000000; text-decoration-color: #000000; font-weight: bold\">{</span><span style=\"color: #008000; text-decoration-color: #008000\">\"arguments\"</span><span style=\"color: #000000; text-decoration-color: #000000\">: &lt;args-dict&gt;, </span><span style=\"color: #008000; text-decoration-color: #008000\">\"name\"</span><span style=\"color: #000000; text-decoration-color: #000000\">: &lt;function-name&gt;</span><span style=\"color: #000000; text-decoration-color: #000000; font-weight: bold\">}</span>                                                       \n",
       "         <span style=\"color: #000000; text-decoration-color: #000000\">&lt;</span><span style=\"color: #800080; text-decoration-color: #800080\">/</span><span style=\"color: #ff00ff; text-decoration-color: #ff00ff\">tool_call</span><span style=\"font-weight: bold\">&gt;</span>                                                                                              \n",
       "</pre>\n"
      ],
      "text/plain": [
       "\u001b[32mDEBUG   \u001b[0m You are a YouTube agent. Obtain the captions of a YouTube video and answer questions.                     \n",
       "                                                                                                                   \n",
       "         ## Instructions                                                                                           \n",
       "         - At the very first turn you don't have \u001b[1m<\u001b[0m\u001b[1;95mtool_results\u001b[0m\u001b[39m> so you shouldn't not make up the results.\u001b[0m          \n",
       "         \u001b[39m- To respond to the users message, you can use only one tool at a time.\u001b[0m                                   \n",
       "         \u001b[39m- When using a tool, only respond with the tool call. Nothing else. Do not add any additional notes, \u001b[0m     \n",
       "         \u001b[39mexplanations or white space.\u001b[0m                                                                              \n",
       "         \u001b[39m- Do not stop calling functions until the task has been accomplished or you've reached max iteration of \u001b[0m  \n",
       "         \u001b[1;36m10\u001b[0m\u001b[39m.\u001b[0m                                                                                                       \n",
       "                                                                                                                   \n",
       "         \u001b[39mYou are a function calling AI model with self-recursion.\u001b[0m                                                  \n",
       "         \u001b[39mYou are provided with function signatures within <tools><\u001b[0m\u001b[35m/\u001b[0m\u001b[95mtools\u001b[0m\u001b[39m> XML tags.\u001b[0m                                \n",
       "         \u001b[39mYou may use agentic frameworks for reasoning and planning to help with user query.\u001b[0m                        \n",
       "         \u001b[39mPlease call a function and wait for function results to be provided to you in the next iteration.\u001b[0m         \n",
       "         \u001b[39mDon't make assumptions about what values to plug into functions.\u001b[0m                                          \n",
       "         \u001b[39mWhen you call a function, don't add any additional notes, explanations or white space.\u001b[0m                    \n",
       "         \u001b[39mOnce you have called a function, results will be provided to you within <tool_response><\u001b[0m\u001b[35m/\u001b[0m\u001b[95mtool_response\u001b[0m\u001b[39m> \u001b[0m  \n",
       "         \u001b[39mXML tags.\u001b[0m                                                                                                 \n",
       "         \u001b[39mDo not make assumptions about tool results if <tool_response> XML tags are not present since the function \u001b[0m\n",
       "         \u001b[39mis not yet executed.\u001b[0m                                                                                      \n",
       "         \u001b[39mAnalyze the results once you get them and call another function if needed.\u001b[0m                                \n",
       "         \u001b[39mYour final response should directly answer the user query with an analysis or summary of the results of \u001b[0m  \n",
       "         \u001b[39mfunction calls.\u001b[0m                                                                                           \n",
       "                                                                                                                   \n",
       "         \u001b[39mHere are the available tools:\u001b[0m                                                                             \n",
       "         \u001b[39m<tools>\u001b[0m                                                                                                   \n",
       "         \u001b[1;39m{\u001b[0m                                                                                                         \n",
       "         \u001b[39m  \u001b[0m\u001b[32m\"name\"\u001b[0m\u001b[39m: \u001b[0m\u001b[32m\"get_youtube_video_captions\"\u001b[0m\u001b[39m,\u001b[0m                                                                   \n",
       "         \u001b[39m  \u001b[0m\u001b[32m\"description\"\u001b[0m\u001b[39m: \u001b[0m\u001b[32m\"Use this function to get captions from a YouTube video.\\n\\nArgs:\\n    url: The URL of \u001b[0m  \n",
       "         \u001b[32mthe YouTube video.\\n\\nReturns:\\n    str: The captions of the YouTube video.\"\u001b[0m\u001b[39m,\u001b[0m                             \n",
       "         \u001b[39m  \u001b[0m\u001b[32m\"arguments\"\u001b[0m\u001b[39m: \u001b[0m\u001b[1;39m{\u001b[0m                                                                                          \n",
       "         \u001b[39m    \u001b[0m\u001b[32m\"url\"\u001b[0m\u001b[39m: \u001b[0m\u001b[1;39m{\u001b[0m                                                                                              \n",
       "         \u001b[39m      \u001b[0m\u001b[32m\"type\"\u001b[0m\u001b[39m: \u001b[0m\u001b[32m\"string\"\u001b[0m                                                                                    \n",
       "         \u001b[39m    \u001b[0m\u001b[1;39m}\u001b[0m                                                                                                     \n",
       "         \u001b[39m  \u001b[0m\u001b[1;39m}\u001b[0m\u001b[39m,\u001b[0m                                                                                                      \n",
       "         \u001b[39m  \u001b[0m\u001b[32m\"returns\"\u001b[0m\u001b[39m: \u001b[0m\u001b[32m\"str\"\u001b[0m                                                                                        \n",
       "         \u001b[1;39m}\u001b[0m                                                                                                         \n",
       "         \u001b[1;39m{\u001b[0m                                                                                                         \n",
       "         \u001b[39m  \u001b[0m\u001b[32m\"name\"\u001b[0m\u001b[39m: \u001b[0m\u001b[32m\"get_youtube_video_data\"\u001b[0m\u001b[39m,\u001b[0m                                                                       \n",
       "         \u001b[39m  \u001b[0m\u001b[32m\"description\"\u001b[0m\u001b[39m: \u001b[0m\u001b[32m\"Function to get video data from a YouTube URL.\\nData returned includes \u001b[0m\u001b[32m{\u001b[0m\u001b[32mtitle, \u001b[0m         \n",
       "         \u001b[32mauthor_name, author_url, type, height, width, version, provider_name, provider_url, \u001b[0m                      \n",
       "         \u001b[32mthumbnail_url\u001b[0m\u001b[32m}\u001b[0m\u001b[32m\\n\\nArgs:\\n    url: The URL of the YouTube video.\\n\\nReturns:\\n    str: JSON data of the \u001b[0m   \n",
       "         \u001b[32mYouTube video.\"\u001b[0m\u001b[39m,\u001b[0m                                                                                          \n",
       "         \u001b[39m  \u001b[0m\u001b[32m\"arguments\"\u001b[0m\u001b[39m: \u001b[0m\u001b[1;39m{\u001b[0m                                                                                          \n",
       "         \u001b[39m    \u001b[0m\u001b[32m\"url\"\u001b[0m\u001b[39m: \u001b[0m\u001b[1;39m{\u001b[0m                                                                                              \n",
       "         \u001b[39m      \u001b[0m\u001b[32m\"type\"\u001b[0m\u001b[39m: \u001b[0m\u001b[32m\"string\"\u001b[0m                                                                                    \n",
       "         \u001b[39m    \u001b[0m\u001b[1;39m}\u001b[0m                                                                                                     \n",
       "         \u001b[39m  \u001b[0m\u001b[1;39m}\u001b[0m\u001b[39m,\u001b[0m                                                                                                      \n",
       "         \u001b[39m  \u001b[0m\u001b[32m\"returns\"\u001b[0m\u001b[39m: \u001b[0m\u001b[32m\"str\"\u001b[0m                                                                                        \n",
       "         \u001b[1;39m}\u001b[0m                                                                                                         \n",
       "         \u001b[39m<\u001b[0m\u001b[35m/\u001b[0m\u001b[95mtools\u001b[0m\u001b[39m>\u001b[0m                                                                                                  \n",
       "                                                                                                                   \n",
       "         \u001b[39mUse the following pydantic model json schema for each tool call you will make: \u001b[0m\u001b[1;39m{\u001b[0m\u001b[32m'title'\u001b[0m\u001b[39m: \u001b[0m\u001b[32m'FunctionCall'\u001b[0m\u001b[39m, \u001b[0m \n",
       "         \u001b[32m'type'\u001b[0m\u001b[39m: \u001b[0m\u001b[32m'object'\u001b[0m\u001b[39m, \u001b[0m\u001b[32m'properties'\u001b[0m\u001b[39m: \u001b[0m\u001b[1;39m{\u001b[0m\u001b[32m'arguments'\u001b[0m\u001b[39m: \u001b[0m\u001b[1;39m{\u001b[0m\u001b[32m'title'\u001b[0m\u001b[39m: \u001b[0m\u001b[32m'Arguments'\u001b[0m\u001b[39m, \u001b[0m\u001b[32m'type'\u001b[0m\u001b[39m: \u001b[0m\u001b[32m'object'\u001b[0m\u001b[1;39m}\u001b[0m\u001b[39m, \u001b[0m\u001b[32m'name'\u001b[0m\u001b[39m: \u001b[0m\u001b[1;39m{\u001b[0m\u001b[32m'title'\u001b[0m\u001b[39m: \u001b[0m\n",
       "         \u001b[32m'Name'\u001b[0m\u001b[39m, \u001b[0m\u001b[32m'type'\u001b[0m\u001b[39m: \u001b[0m\u001b[32m'string'\u001b[0m\u001b[1;39m}\u001b[0m\u001b[1;39m}\u001b[0m\u001b[39m, \u001b[0m\u001b[32m'required'\u001b[0m\u001b[39m: \u001b[0m\u001b[1;39m[\u001b[0m\u001b[32m'arguments'\u001b[0m\u001b[39m, \u001b[0m\u001b[32m'name'\u001b[0m\u001b[1;39m]\u001b[0m\u001b[1;39m}\u001b[0m                                            \n",
       "         \u001b[39mFor each function call return a json object with function name and arguments within \u001b[0m                      \n",
       "         \u001b[39m<tool_call><\u001b[0m\u001b[35m/\u001b[0m\u001b[95mtool_call\u001b[0m\u001b[39m> XML tags as follows:\u001b[0m                                                              \n",
       "         \u001b[39m<tool_call>\u001b[0m                                                                                               \n",
       "         \u001b[1;39m{\u001b[0m\u001b[32m\"arguments\"\u001b[0m\u001b[39m: <args-dict>, \u001b[0m\u001b[32m\"name\"\u001b[0m\u001b[39m: <function-name>\u001b[0m\u001b[1;39m}\u001b[0m                                                       \n",
       "         \u001b[39m<\u001b[0m\u001b[35m/\u001b[0m\u001b[95mtool_call\u001b[0m\u001b[1m>\u001b[0m                                                                                              \n"
      ]
     },
     "metadata": {},
     "output_type": "display_data"
    },
    {
     "data": {
      "text/html": [
       "<pre style=\"white-space:pre;overflow-x:auto;line-height:normal;font-family:Menlo,'DejaVu Sans Mono',consolas,'Courier New',monospace\"><span style=\"color: #008000; text-decoration-color: #008000\">DEBUG   </span> ============== user ==============                                                                        \n",
       "</pre>\n"
      ],
      "text/plain": [
       "\u001b[32mDEBUG   \u001b[0m ============== user ==============                                                                        \n"
      ]
     },
     "metadata": {},
     "output_type": "display_data"
    },
    {
     "data": {
      "text/html": [
       "<pre style=\"white-space:pre;overflow-x:auto;line-height:normal;font-family:Menlo,'DejaVu Sans Mono',consolas,'Courier New',monospace\"><span style=\"color: #008000; text-decoration-color: #008000\">DEBUG   </span> Summarize this video <span style=\"color: #0000ff; text-decoration-color: #0000ff; text-decoration: underline\">https://www.youtube.com/watch?v=98UeougY0zQ</span>                                          \n",
       "</pre>\n"
      ],
      "text/plain": [
       "\u001b[32mDEBUG   \u001b[0m Summarize this video \u001b[4;94mhttps://www.youtube.com/watch?\u001b[0m\u001b[4;94mv\u001b[0m\u001b[4;94m=\u001b[0m\u001b[4;94m98UeougY0zQ\u001b[0m                                          \n"
      ]
     },
     "metadata": {},
     "output_type": "display_data"
    },
    {
     "data": {
      "text/html": [
       "<pre style=\"white-space:pre;overflow-x:auto;line-height:normal;font-family:Menlo,'DejaVu Sans Mono',consolas,'Courier New',monospace\"><span style=\"color: #008000; text-decoration-color: #008000\">DEBUG   </span> ============== assistant ==============                                                                   \n",
       "</pre>\n"
      ],
      "text/plain": [
       "\u001b[32mDEBUG   \u001b[0m ============== assistant ==============                                                                   \n"
      ]
     },
     "metadata": {},
     "output_type": "display_data"
    },
    {
     "data": {
      "text/html": [
       "<pre style=\"white-space:pre;overflow-x:auto;line-height:normal;font-family:Menlo,'DejaVu Sans Mono',consolas,'Courier New',monospace\"><span style=\"color: #008000; text-decoration-color: #008000\">DEBUG   </span>                                                                                                           \n",
       "         <span style=\"font-weight: bold\">&lt;</span><span style=\"color: #ff00ff; text-decoration-color: #ff00ff; font-weight: bold\">tool_call</span><span style=\"color: #000000; text-decoration-color: #000000\">&gt;</span>                                                                                               \n",
       "         <span style=\"color: #000000; text-decoration-color: #000000; font-weight: bold\">{</span><span style=\"color: #008000; text-decoration-color: #008000\">\"arguments\"</span><span style=\"color: #000000; text-decoration-color: #000000\">: </span><span style=\"color: #000000; text-decoration-color: #000000; font-weight: bold\">{</span><span style=\"color: #008000; text-decoration-color: #008000\">\"url\"</span><span style=\"color: #000000; text-decoration-color: #000000\">: </span><span style=\"color: #008000; text-decoration-color: #008000\">\"https://www.youtube.com/watch?v=98UeougY0zQ\"</span><span style=\"color: #000000; text-decoration-color: #000000; font-weight: bold\">}</span><span style=\"color: #000000; text-decoration-color: #000000\">, </span><span style=\"color: #008000; text-decoration-color: #008000\">\"name\"</span><span style=\"color: #000000; text-decoration-color: #000000\">: </span>                            \n",
       "         <span style=\"color: #008000; text-decoration-color: #008000\">\"get_youtube_video_captions\"</span><span style=\"color: #000000; text-decoration-color: #000000; font-weight: bold\">}</span>                                                                             \n",
       "         <span style=\"color: #000000; text-decoration-color: #000000\">&lt;</span><span style=\"color: #800080; text-decoration-color: #800080\">/</span><span style=\"color: #ff00ff; text-decoration-color: #ff00ff\">tool_call</span><span style=\"font-weight: bold\">&gt;</span>                                                                                              \n",
       "</pre>\n"
      ],
      "text/plain": [
       "\u001b[32mDEBUG   \u001b[0m                                                                                                           \n",
       "         \u001b[1m<\u001b[0m\u001b[1;95mtool_call\u001b[0m\u001b[39m>\u001b[0m                                                                                               \n",
       "         \u001b[1;39m{\u001b[0m\u001b[32m\"arguments\"\u001b[0m\u001b[39m: \u001b[0m\u001b[1;39m{\u001b[0m\u001b[32m\"url\"\u001b[0m\u001b[39m: \u001b[0m\u001b[32m\"https://www.youtube.com/watch?\u001b[0m\u001b[32mv\u001b[0m\u001b[32m=\u001b[0m\u001b[32m98UeougY0zQ\"\u001b[0m\u001b[1;39m}\u001b[0m\u001b[39m, \u001b[0m\u001b[32m\"name\"\u001b[0m\u001b[39m: \u001b[0m                            \n",
       "         \u001b[32m\"get_youtube_video_captions\"\u001b[0m\u001b[1;39m}\u001b[0m                                                                             \n",
       "         \u001b[39m<\u001b[0m\u001b[35m/\u001b[0m\u001b[95mtool_call\u001b[0m\u001b[1m>\u001b[0m                                                                                              \n"
      ]
     },
     "metadata": {},
     "output_type": "display_data"
    },
    {
     "data": {
      "text/html": [
       "<pre style=\"white-space:pre;overflow-x:auto;line-height:normal;font-family:Menlo,'DejaVu Sans Mono',consolas,'Courier New',monospace\"><span style=\"color: #008000; text-decoration-color: #008000\">DEBUG   </span> Tool Calls: <span style=\"font-weight: bold\">[</span>                                                                                             \n",
       "           <span style=\"font-weight: bold\">{</span>                                                                                                       \n",
       "             <span style=\"color: #008000; text-decoration-color: #008000\">\"type\"</span>: <span style=\"color: #008000; text-decoration-color: #008000\">\"function\"</span>,                                                                                   \n",
       "             <span style=\"color: #008000; text-decoration-color: #008000\">\"function\"</span>: <span style=\"font-weight: bold\">{</span>                                                                                         \n",
       "               <span style=\"color: #008000; text-decoration-color: #008000\">\"name\"</span>: <span style=\"color: #008000; text-decoration-color: #008000\">\"get_youtube_video_captions\"</span>,                                                               \n",
       "               <span style=\"color: #008000; text-decoration-color: #008000\">\"arguments\"</span>: <span style=\"color: #008000; text-decoration-color: #008000\">\"{\\\"url\\\": \\\"https://www.youtube.com/watch?v=98UeougY0zQ\\\"}\"</span>                           \n",
       "             <span style=\"font-weight: bold\">}</span>                                                                                                     \n",
       "           <span style=\"font-weight: bold\">}</span>                                                                                                       \n",
       "         <span style=\"font-weight: bold\">]</span>                                                                                                         \n",
       "</pre>\n"
      ],
      "text/plain": [
       "\u001b[32mDEBUG   \u001b[0m Tool Calls: \u001b[1m[\u001b[0m                                                                                             \n",
       "           \u001b[1m{\u001b[0m                                                                                                       \n",
       "             \u001b[32m\"type\"\u001b[0m: \u001b[32m\"function\"\u001b[0m,                                                                                   \n",
       "             \u001b[32m\"function\"\u001b[0m: \u001b[1m{\u001b[0m                                                                                         \n",
       "               \u001b[32m\"name\"\u001b[0m: \u001b[32m\"get_youtube_video_captions\"\u001b[0m,                                                               \n",
       "               \u001b[32m\"arguments\"\u001b[0m: \u001b[32m\"\u001b[0m\u001b[32m{\u001b[0m\u001b[32m\\\"url\\\": \\\"https://www.youtube.com/watch?\u001b[0m\u001b[32mv\u001b[0m\u001b[32m=\u001b[0m\u001b[32m98UeougY0zQ\u001b[0m\u001b[32m\\\"\u001b[0m\u001b[32m}\u001b[0m\u001b[32m\"\u001b[0m                           \n",
       "             \u001b[1m}\u001b[0m                                                                                                     \n",
       "           \u001b[1m}\u001b[0m                                                                                                       \n",
       "         \u001b[1m]\u001b[0m                                                                                                         \n"
      ]
     },
     "metadata": {},
     "output_type": "display_data"
    },
    {
     "data": {
      "text/html": [
       "<pre style=\"white-space:pre;overflow-x:auto;line-height:normal;font-family:Menlo,'DejaVu Sans Mono',consolas,'Courier New',monospace\"><span style=\"color: #008000; text-decoration-color: #008000\">DEBUG   </span> ============== tool ==============                                                                        \n",
       "</pre>\n"
      ],
      "text/plain": [
       "\u001b[32mDEBUG   \u001b[0m ============== tool ==============                                                                        \n"
      ]
     },
     "metadata": {},
     "output_type": "display_data"
    },
    {
     "data": {
      "text/html": [
       "<pre style=\"white-space:pre;overflow-x:auto;line-height:normal;font-family:Menlo,'DejaVu Sans Mono',consolas,'Courier New',monospace\"><span style=\"color: #008000; text-decoration-color: #008000\">DEBUG   </span> <span style=\"font-weight: bold\">&lt;</span><span style=\"color: #ff00ff; text-decoration-color: #ff00ff; font-weight: bold\">tool_response</span><span style=\"color: #000000; text-decoration-color: #000000\">&gt;</span>                                                                                           \n",
       "         <span style=\"color: #000000; text-decoration-color: #000000; font-weight: bold\">{</span><span style=\"color: #008000; text-decoration-color: #008000\">\"name\"</span><span style=\"color: #000000; text-decoration-color: #000000\">: </span><span style=\"color: #008000; text-decoration-color: #008000\">\"get_youtube_video_captions\"</span><span style=\"color: #000000; text-decoration-color: #000000\">, </span><span style=\"color: #008000; text-decoration-color: #008000\">\"content\"</span><span style=\"color: #000000; text-decoration-color: #000000\">: </span><span style=\"color: #008000; text-decoration-color: #008000\">\"absolutely this is where where we focus on it we often </span>\n",
       "         <span style=\"color: #008000; text-decoration-color: #008000\">talk about models they're pretty simple they predict words so if I said um it's raining catsan most people</span>\n",
       "         <span style=\"color: #008000; text-decoration-color: #008000\">would say dogs with it or in this audience if I said I believe the market today will go maybe 50% up maybe</span>\n",
       "         <span style=\"color: #008000; text-decoration-color: #008000\">50% down the challenge in models today is they don't know your words for your business and so we're really</span>\n",
       "         <span style=\"color: #008000; text-decoration-color: #008000\">passionate about smaller models that you can train with your Enterprise knowledge and that helps you then </span>\n",
       "         <span style=\"color: #008000; text-decoration-color: #008000\">Solve IT problems sales so man are you talking about the next leg the next stage or development of AI </span>    \n",
       "         <span style=\"color: #008000; text-decoration-color: #008000\">which is is which is going to be about inference IT training and then being able to run inference at a </span>   \n",
       "         <span style=\"color: #008000; text-decoration-color: #008000\">vastly smaller scales when we talk about smaller models on this they're still significant size but they </span>  \n",
       "         <span style=\"color: #008000; text-decoration-color: #008000\">are 50 to 100 times smaller than most of the models that we interact with as consumers but being able to </span> \n",
       "         <span style=\"color: #008000; text-decoration-color: #008000\">train them on your business knowledge the non-sexy parts of business that's where we believe you can drive</span>\n",
       "         <span style=\"color: #008000; text-decoration-color: #008000\">efficiency because the inference costs are so low at that point the digital labor costs are just much </span>    \n",
       "         <span style=\"color: #008000; text-decoration-color: #008000\">lower than the human labor costs in those areas so that's where we focus again it's a it is in that back </span> \n",
       "         <span style=\"color: #008000; text-decoration-color: #008000\">office side of business but it's tremendously impactful to the bottom line companies do those smaller </span>    \n",
       "         <span style=\"color: #008000; text-decoration-color: #008000\">models or can those smaller models work for the next phase of generative a AI uh we were speaking to a </span>   \n",
       "         <span style=\"color: #008000; text-decoration-color: #008000\">guest yesterday who was talking about robotics it does the application work there and then of course on </span>  \n",
       "         <span style=\"color: #008000; text-decoration-color: #008000\">even larger Sovereign national scale Jensen Quan was talking about Sovereign data and Sovereign AI do the </span>\n",
       "         <span style=\"color: #008000; text-decoration-color: #008000\">smaller models work in that context I think the context is very similar on those at a nation state level </span> \n",
       "         <span style=\"color: #008000; text-decoration-color: #008000\">it might be language or your your populace needs with it and your ability to take a model and influence it</span>\n",
       "         <span style=\"color: #008000; text-decoration-color: #008000\">put your fingerprint on it is as critical for nation states as it is for Enterprises so we really believe </span>\n",
       "         <span style=\"color: #008000; text-decoration-color: #008000\">that not one omniscient model but the ability to have smaller specialized models that you can train and </span>  \n",
       "         <span style=\"color: #008000; text-decoration-color: #008000\">run efficiently that's I think where we'll um tap into a lot of value\"</span><span style=\"color: #000000; text-decoration-color: #000000; font-weight: bold\">}</span>                                   \n",
       "         <span style=\"color: #000000; text-decoration-color: #000000\">&lt;</span><span style=\"color: #800080; text-decoration-color: #800080\">/</span><span style=\"color: #ff00ff; text-decoration-color: #ff00ff\">tool_response</span><span style=\"font-weight: bold\">&gt;</span>                                                                                          \n",
       "</pre>\n"
      ],
      "text/plain": [
       "\u001b[32mDEBUG   \u001b[0m \u001b[1m<\u001b[0m\u001b[1;95mtool_response\u001b[0m\u001b[39m>\u001b[0m                                                                                           \n",
       "         \u001b[1;39m{\u001b[0m\u001b[32m\"name\"\u001b[0m\u001b[39m: \u001b[0m\u001b[32m\"get_youtube_video_captions\"\u001b[0m\u001b[39m, \u001b[0m\u001b[32m\"content\"\u001b[0m\u001b[39m: \u001b[0m\u001b[32m\"absolutely this is where where we focus on it we often \u001b[0m\n",
       "         \u001b[32mtalk about models they're pretty simple they predict words so if I said um it's raining catsan most people\u001b[0m\n",
       "         \u001b[32mwould say dogs with it or in this audience if I said I believe the market today will go maybe 50% up maybe\u001b[0m\n",
       "         \u001b[32m50% down the challenge in models today is they don't know your words for your business and so we're really\u001b[0m\n",
       "         \u001b[32mpassionate about smaller models that you can train with your Enterprise knowledge and that helps you then \u001b[0m\n",
       "         \u001b[32mSolve IT problems sales so man are you talking about the next leg the next stage or development of AI \u001b[0m    \n",
       "         \u001b[32mwhich is is which is going to be about inference IT training and then being able to run inference at a \u001b[0m   \n",
       "         \u001b[32mvastly smaller scales when we talk about smaller models on this they're still significant size but they \u001b[0m  \n",
       "         \u001b[32mare 50 to 100 times smaller than most of the models that we interact with as consumers but being able to \u001b[0m \n",
       "         \u001b[32mtrain them on your business knowledge the non-sexy parts of business that's where we believe you can drive\u001b[0m\n",
       "         \u001b[32mefficiency because the inference costs are so low at that point the digital labor costs are just much \u001b[0m    \n",
       "         \u001b[32mlower than the human labor costs in those areas so that's where we focus again it's a it is in that back \u001b[0m \n",
       "         \u001b[32moffice side of business but it's tremendously impactful to the bottom line companies do those smaller \u001b[0m    \n",
       "         \u001b[32mmodels or can those smaller models work for the next phase of generative a AI uh we were speaking to a \u001b[0m   \n",
       "         \u001b[32mguest yesterday who was talking about robotics it does the application work there and then of course on \u001b[0m  \n",
       "         \u001b[32meven larger Sovereign national scale Jensen Quan was talking about Sovereign data and Sovereign AI do the \u001b[0m\n",
       "         \u001b[32msmaller models work in that context I think the context is very similar on those at a nation state level \u001b[0m \n",
       "         \u001b[32mit might be language or your your populace needs with it and your ability to take a model and influence it\u001b[0m\n",
       "         \u001b[32mput your fingerprint on it is as critical for nation states as it is for Enterprises so we really believe \u001b[0m\n",
       "         \u001b[32mthat not one omniscient model but the ability to have smaller specialized models that you can train and \u001b[0m  \n",
       "         \u001b[32mrun efficiently that's I think where we'll um tap into a lot of value\"\u001b[0m\u001b[1;39m}\u001b[0m                                   \n",
       "         \u001b[39m<\u001b[0m\u001b[35m/\u001b[0m\u001b[95mtool_response\u001b[0m\u001b[1m>\u001b[0m                                                                                          \n"
      ]
     },
     "metadata": {},
     "output_type": "display_data"
    },
    {
     "data": {
      "text/html": [
       "<pre style=\"white-space:pre;overflow-x:auto;line-height:normal;font-family:Menlo,'DejaVu Sans Mono',consolas,'Courier New',monospace\"><span style=\"color: #008000; text-decoration-color: #008000\">DEBUG   </span> ============== assistant ==============                                                                   \n",
       "</pre>\n"
      ],
      "text/plain": [
       "\u001b[32mDEBUG   \u001b[0m ============== assistant ==============                                                                   \n"
      ]
     },
     "metadata": {},
     "output_type": "display_data"
    },
    {
     "data": {
      "text/html": [
       "<pre style=\"white-space:pre;overflow-x:auto;line-height:normal;font-family:Menlo,'DejaVu Sans Mono',consolas,'Courier New',monospace\"><span style=\"color: #008000; text-decoration-color: #008000\">DEBUG   </span>                                                                                                           \n",
       "         The video discusses the focus on developing smaller AI models that can be trained with enterprise         \n",
       "         knowledge to solve IT problems and improve efficiency in the business world. These smaller models are     \n",
       "         significantly more efficient than most current models, both in terms of training and inference costs. By  \n",
       "         utilizing this technology, companies can drive cost savings and enhance their bottom line.                \n",
       "                                                                                                                   \n",
       "         The speakers also touch on the potential applications of these smaller models in robotics, generative AI, \n",
       "         and even at a national level for language and populace needs. They emphasize the importance of creating   \n",
       "         specialized models that can be influenced and tailored to specific contexts, whether it's for enterprises \n",
       "         or nation states. The video highlights the belief that this approach will unlock significant value in     \n",
       "         various industries and use cases.                                                                         \n",
       "</pre>\n"
      ],
      "text/plain": [
       "\u001b[32mDEBUG   \u001b[0m                                                                                                           \n",
       "         The video discusses the focus on developing smaller AI models that can be trained with enterprise         \n",
       "         knowledge to solve IT problems and improve efficiency in the business world. These smaller models are     \n",
       "         significantly more efficient than most current models, both in terms of training and inference costs. By  \n",
       "         utilizing this technology, companies can drive cost savings and enhance their bottom line.                \n",
       "                                                                                                                   \n",
       "         The speakers also touch on the potential applications of these smaller models in robotics, generative AI, \n",
       "         and even at a national level for language and populace needs. They emphasize the importance of creating   \n",
       "         specialized models that can be influenced and tailored to specific contexts, whether it's for enterprises \n",
       "         or nation states. The video highlights the belief that this approach will unlock significant value in     \n",
       "         various industries and use cases.                                                                         \n"
      ]
     },
     "metadata": {},
     "output_type": "display_data"
    },
    {
     "data": {
      "text/html": [
       "<pre style=\"white-space:pre;overflow-x:auto;line-height:normal;font-family:Menlo,'DejaVu Sans Mono',consolas,'Courier New',monospace\"><span style=\"color: #008000; text-decoration-color: #008000\">DEBUG   </span> **************** METRICS START ****************                                                           \n",
       "</pre>\n"
      ],
      "text/plain": [
       "\u001b[32mDEBUG   \u001b[0m **************** METRICS START ****************                                                           \n"
      ]
     },
     "metadata": {},
     "output_type": "display_data"
    },
    {
     "data": {
      "text/html": [
       "<pre style=\"white-space:pre;overflow-x:auto;line-height:normal;font-family:Menlo,'DejaVu Sans Mono',consolas,'Courier New',monospace\"><span style=\"color: #008000; text-decoration-color: #008000\">DEBUG   </span> * Time to generate response:   <span style=\"color: #008080; text-decoration-color: #008080; font-weight: bold\">10.</span>0450s                                                                   \n",
       "</pre>\n"
      ],
      "text/plain": [
       "\u001b[32mDEBUG   \u001b[0m * Time to generate response:   \u001b[1;36m10.\u001b[0m0450s                                                                   \n"
      ]
     },
     "metadata": {},
     "output_type": "display_data"
    },
    {
     "data": {
      "text/html": [
       "<pre style=\"white-space:pre;overflow-x:auto;line-height:normal;font-family:Menlo,'DejaVu Sans Mono',consolas,'Courier New',monospace\"><span style=\"color: #008000; text-decoration-color: #008000\">DEBUG   </span> * Tokens per second:           <span style=\"color: #008080; text-decoration-color: #008080; font-weight: bold\">14.4351</span> tokens/s                                                           \n",
       "</pre>\n"
      ],
      "text/plain": [
       "\u001b[32mDEBUG   \u001b[0m * Tokens per second:           \u001b[1;36m14.4351\u001b[0m tokens/s                                                           \n"
      ]
     },
     "metadata": {},
     "output_type": "display_data"
    },
    {
     "data": {
      "text/html": [
       "<pre style=\"white-space:pre;overflow-x:auto;line-height:normal;font-family:Menlo,'DejaVu Sans Mono',consolas,'Courier New',monospace\"><span style=\"color: #008000; text-decoration-color: #008000\">DEBUG   </span> * Input tokens:                <span style=\"color: #008080; text-decoration-color: #008080; font-weight: bold\">1140</span>                                                                       \n",
       "</pre>\n"
      ],
      "text/plain": [
       "\u001b[32mDEBUG   \u001b[0m * Input tokens:                \u001b[1;36m1140\u001b[0m                                                                       \n"
      ]
     },
     "metadata": {},
     "output_type": "display_data"
    },
    {
     "data": {
      "text/html": [
       "<pre style=\"white-space:pre;overflow-x:auto;line-height:normal;font-family:Menlo,'DejaVu Sans Mono',consolas,'Courier New',monospace\"><span style=\"color: #008000; text-decoration-color: #008000\">DEBUG   </span> * Output tokens:               <span style=\"color: #008080; text-decoration-color: #008080; font-weight: bold\">145</span>                                                                        \n",
       "</pre>\n"
      ],
      "text/plain": [
       "\u001b[32mDEBUG   \u001b[0m * Output tokens:               \u001b[1;36m145\u001b[0m                                                                        \n"
      ]
     },
     "metadata": {},
     "output_type": "display_data"
    },
    {
     "data": {
      "text/html": [
       "<pre style=\"white-space:pre;overflow-x:auto;line-height:normal;font-family:Menlo,'DejaVu Sans Mono',consolas,'Courier New',monospace\"><span style=\"color: #008000; text-decoration-color: #008000\">DEBUG   </span> * Total tokens:                <span style=\"color: #008080; text-decoration-color: #008080; font-weight: bold\">1285</span>                                                                       \n",
       "</pre>\n"
      ],
      "text/plain": [
       "\u001b[32mDEBUG   \u001b[0m * Total tokens:                \u001b[1;36m1285\u001b[0m                                                                       \n"
      ]
     },
     "metadata": {},
     "output_type": "display_data"
    },
    {
     "data": {
      "text/html": [
       "<pre style=\"white-space:pre;overflow-x:auto;line-height:normal;font-family:Menlo,'DejaVu Sans Mono',consolas,'Courier New',monospace\"><span style=\"color: #008000; text-decoration-color: #008000\">DEBUG   </span> **************** METRICS END ******************                                                           \n",
       "</pre>\n"
      ],
      "text/plain": [
       "\u001b[32mDEBUG   \u001b[0m **************** METRICS END ******************                                                           \n"
      ]
     },
     "metadata": {},
     "output_type": "display_data"
    },
    {
     "data": {
      "text/html": [
       "<pre style=\"white-space:pre;overflow-x:auto;line-height:normal;font-family:Menlo,'DejaVu Sans Mono',consolas,'Courier New',monospace\"><span style=\"color: #008000; text-decoration-color: #008000\">DEBUG   </span> ---------- Ollama Response End ----------                                                                 \n",
       "</pre>\n"
      ],
      "text/plain": [
       "\u001b[32mDEBUG   \u001b[0m ---------- Ollama Response End ----------                                                                 \n"
      ]
     },
     "metadata": {},
     "output_type": "display_data"
    },
    {
     "data": {
      "text/html": [
       "<pre style=\"white-space:pre;overflow-x:auto;line-height:normal;font-family:Menlo,'DejaVu Sans Mono',consolas,'Courier New',monospace\"><span style=\"color: #008000; text-decoration-color: #008000\">DEBUG   </span> Added <span style=\"color: #008080; text-decoration-color: #008080; font-weight: bold\">4</span> Messages to AgentMemory                                                                           \n",
       "</pre>\n"
      ],
      "text/plain": [
       "\u001b[32mDEBUG   \u001b[0m Added \u001b[1;36m4\u001b[0m Messages to AgentMemory                                                                           \n"
      ]
     },
     "metadata": {},
     "output_type": "display_data"
    },
    {
     "data": {
      "text/html": [
       "<pre style=\"white-space:pre;overflow-x:auto;line-height:normal;font-family:Menlo,'DejaVu Sans Mono',consolas,'Courier New',monospace\"><span style=\"color: #008000; text-decoration-color: #008000\">DEBUG   </span> Added AgentRun to AgentMemory                                                                             \n",
       "</pre>\n"
      ],
      "text/plain": [
       "\u001b[32mDEBUG   \u001b[0m Added AgentRun to AgentMemory                                                                             \n"
      ]
     },
     "metadata": {},
     "output_type": "display_data"
    },
    {
     "data": {
      "text/html": [
       "<pre style=\"white-space:pre;overflow-x:auto;line-height:normal;font-family:Menlo,'DejaVu Sans Mono',consolas,'Courier New',monospace\"><span style=\"color: #008000; text-decoration-color: #008000\">DEBUG   </span> --**-- Logging Agent Run                                                                                  \n",
       "</pre>\n"
      ],
      "text/plain": [
       "\u001b[32mDEBUG   \u001b[0m --**-- Logging Agent Run                                                                                  \n"
      ]
     },
     "metadata": {},
     "output_type": "display_data"
    },
    {
     "data": {
      "text/html": [
       "<pre style=\"white-space:pre;overflow-x:auto;line-height:normal;font-family:Menlo,'DejaVu Sans Mono',consolas,'Courier New',monospace\"><span style=\"color: #008000; text-decoration-color: #008000\">DEBUG   </span> *********** Agent Run End: <span style=\"color: #ffff00; text-decoration-color: #ffff00\">f302cc00-fbca-4a0d-bcb9-f0639990473d</span> ***********                               \n",
       "</pre>\n"
      ],
      "text/plain": [
       "\u001b[32mDEBUG   \u001b[0m *********** Agent Run End: \u001b[93mf302cc00-fbca-4a0d-bcb9-f0639990473d\u001b[0m ***********                               \n"
      ]
     },
     "metadata": {},
     "output_type": "display_data"
    }
   ],
   "source": [
    "result = agent.run(\"Summarize this video https://www.youtube.com/watch?v=98UeougY0zQ\", markdown=True)"
   ]
  },
  {
   "cell_type": "code",
   "execution_count": 5,
   "id": "6abe8fa5-6d34-4067-b370-3ef9029c5e1c",
   "metadata": {},
   "outputs": [
    {
     "data": {
      "text/plain": [
       "\"\\n\\n\\n - Running: get_youtube_video_captions(url=https://www.youtube.com/watch?v=98UeougY0zQ)\\n\\n\\nThe video discusses the focus on developing smaller AI models that can be trained with enterprise knowledge to solve IT problems and improve efficiency in the business world. These smaller models are significantly more efficient than most current models, both in terms of training and inference costs. By utilizing this technology, companies can drive cost savings and enhance their bottom line.\\n\\nThe speakers also touch on the potential applications of these smaller models in robotics, generative AI, and even at a national level for language and populace needs. They emphasize the importance of creating specialized models that can be influenced and tailored to specific contexts, whether it's for enterprises or nation states. The video highlights the belief that this approach will unlock significant value in various industries and use cases.\""
      ]
     },
     "execution_count": 5,
     "metadata": {},
     "output_type": "execute_result"
    }
   ],
   "source": [
    "result.get_content_as_string()"
   ]
  },
  {
   "cell_type": "markdown",
   "id": "6e94733f-ed0e-40bc-be90-a41634b92045",
   "metadata": {},
   "source": [
    "Watch out for hallucinations as only the CEO of Red Hat is mentioned. The video clearly shows Matt Hicks but sometimes the LLM will hallucinate and speak of Paul Cormier, the previous CEO."
   ]
  }
 ],
 "metadata": {
  "kernelspec": {
   "display_name": "Python 3 (ipykernel)",
   "language": "python",
   "name": "python3"
  },
  "language_info": {
   "codemirror_mode": {
    "name": "ipython",
    "version": 3
   },
   "file_extension": ".py",
   "mimetype": "text/x-python",
   "name": "python",
   "nbconvert_exporter": "python",
   "pygments_lexer": "ipython3",
   "version": "3.10.10"
  }
 },
 "nbformat": 4,
 "nbformat_minor": 5
}

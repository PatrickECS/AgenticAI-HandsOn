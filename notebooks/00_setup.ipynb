{
 "cells": [
  {
   "cell_type": "code",
   "execution_count": 1,
   "id": "f1e2a0ca-b9de-4a47-8cda-bf417ea946ba",
   "metadata": {},
   "outputs": [
    {
     "name": "stdout",
     "output_type": "stream",
     "text": [
      "Requirement already satisfied: phidata==2.5.32 in /opt/homebrew/Caskroom/miniconda/base/lib/python3.10/site-packages (from -r requirements.txt (line 1)) (2.5.32)\n",
      "Requirement already satisfied: ollama==0.3.3 in /opt/homebrew/Caskroom/miniconda/base/lib/python3.10/site-packages (from -r requirements.txt (line 2)) (0.3.3)\n",
      "Requirement already satisfied: duckduckgo_search==6.3.5 in /opt/homebrew/Caskroom/miniconda/base/lib/python3.10/site-packages (from -r requirements.txt (line 3)) (6.3.5)\n",
      "Requirement already satisfied: pydantic==2.9.2 in /opt/homebrew/Caskroom/miniconda/base/lib/python3.10/site-packages (from -r requirements.txt (line 4)) (2.9.2)\n",
      "Requirement already satisfied: pypdf==5.1.0 in /opt/homebrew/Caskroom/miniconda/base/lib/python3.10/site-packages (from -r requirements.txt (line 5)) (5.1.0)\n",
      "Requirement already satisfied: youtube-transcript-api==0.6.2 in /opt/homebrew/Caskroom/miniconda/base/lib/python3.10/site-packages (from -r requirements.txt (line 6)) (0.6.2)\n",
      "Requirement already satisfied: gitpython in /opt/homebrew/Caskroom/miniconda/base/lib/python3.10/site-packages (from phidata==2.5.32->-r requirements.txt (line 1)) (3.1.42)\n",
      "Requirement already satisfied: httpx in /opt/homebrew/Caskroom/miniconda/base/lib/python3.10/site-packages (from phidata==2.5.32->-r requirements.txt (line 1)) (0.27.0)\n",
      "Requirement already satisfied: pydantic-settings in /opt/homebrew/Caskroom/miniconda/base/lib/python3.10/site-packages (from phidata==2.5.32->-r requirements.txt (line 1)) (2.6.1)\n",
      "Requirement already satisfied: python-dotenv in /opt/homebrew/Caskroom/miniconda/base/lib/python3.10/site-packages (from phidata==2.5.32->-r requirements.txt (line 1)) (1.0.1)\n",
      "Requirement already satisfied: pyyaml in /opt/homebrew/Caskroom/miniconda/base/lib/python3.10/site-packages (from phidata==2.5.32->-r requirements.txt (line 1)) (6.0.1)\n",
      "Requirement already satisfied: rich in /opt/homebrew/Caskroom/miniconda/base/lib/python3.10/site-packages (from phidata==2.5.32->-r requirements.txt (line 1)) (13.9.4)\n",
      "Requirement already satisfied: tomli in /opt/homebrew/Caskroom/miniconda/base/lib/python3.10/site-packages (from phidata==2.5.32->-r requirements.txt (line 1)) (2.0.1)\n",
      "Requirement already satisfied: typer in /opt/homebrew/Caskroom/miniconda/base/lib/python3.10/site-packages (from phidata==2.5.32->-r requirements.txt (line 1)) (0.12.5)\n",
      "Requirement already satisfied: typing-extensions in /opt/homebrew/Caskroom/miniconda/base/lib/python3.10/site-packages (from phidata==2.5.32->-r requirements.txt (line 1)) (4.11.0)\n",
      "Requirement already satisfied: click>=8.1.7 in /opt/homebrew/Caskroom/miniconda/base/lib/python3.10/site-packages (from duckduckgo_search==6.3.5->-r requirements.txt (line 3)) (8.1.7)\n",
      "Requirement already satisfied: primp>=0.6.5 in /opt/homebrew/Caskroom/miniconda/base/lib/python3.10/site-packages (from duckduckgo_search==6.3.5->-r requirements.txt (line 3)) (0.7.0)\n",
      "Requirement already satisfied: annotated-types>=0.6.0 in /opt/homebrew/Caskroom/miniconda/base/lib/python3.10/site-packages (from pydantic==2.9.2->-r requirements.txt (line 4)) (0.6.0)\n",
      "Requirement already satisfied: pydantic-core==2.23.4 in /opt/homebrew/Caskroom/miniconda/base/lib/python3.10/site-packages (from pydantic==2.9.2->-r requirements.txt (line 4)) (2.23.4)\n",
      "Requirement already satisfied: requests in /opt/homebrew/Caskroom/miniconda/base/lib/python3.10/site-packages (from youtube-transcript-api==0.6.2->-r requirements.txt (line 6)) (2.32.3)\n",
      "Requirement already satisfied: anyio in /opt/homebrew/Caskroom/miniconda/base/lib/python3.10/site-packages (from httpx->phidata==2.5.32->-r requirements.txt (line 1)) (3.7.1)\n",
      "Requirement already satisfied: certifi in /opt/homebrew/Caskroom/miniconda/base/lib/python3.10/site-packages (from httpx->phidata==2.5.32->-r requirements.txt (line 1)) (2024.8.30)\n",
      "Requirement already satisfied: httpcore==1.* in /opt/homebrew/Caskroom/miniconda/base/lib/python3.10/site-packages (from httpx->phidata==2.5.32->-r requirements.txt (line 1)) (1.0.2)\n",
      "Requirement already satisfied: idna in /opt/homebrew/Caskroom/miniconda/base/lib/python3.10/site-packages (from httpx->phidata==2.5.32->-r requirements.txt (line 1)) (3.7)\n",
      "Requirement already satisfied: sniffio in /opt/homebrew/Caskroom/miniconda/base/lib/python3.10/site-packages (from httpx->phidata==2.5.32->-r requirements.txt (line 1)) (1.3.0)\n",
      "Requirement already satisfied: h11<0.15,>=0.13 in /opt/homebrew/Caskroom/miniconda/base/lib/python3.10/site-packages (from httpcore==1.*->httpx->phidata==2.5.32->-r requirements.txt (line 1)) (0.14.0)\n",
      "Requirement already satisfied: gitdb<5,>=4.0.1 in /opt/homebrew/Caskroom/miniconda/base/lib/python3.10/site-packages (from gitpython->phidata==2.5.32->-r requirements.txt (line 1)) (4.0.10)\n",
      "Requirement already satisfied: charset-normalizer<4,>=2 in /opt/homebrew/Caskroom/miniconda/base/lib/python3.10/site-packages (from requests->youtube-transcript-api==0.6.2->-r requirements.txt (line 6)) (3.3.2)\n",
      "Requirement already satisfied: urllib3<3,>=1.21.1 in /opt/homebrew/Caskroom/miniconda/base/lib/python3.10/site-packages (from requests->youtube-transcript-api==0.6.2->-r requirements.txt (line 6)) (1.26.20)\n",
      "Requirement already satisfied: markdown-it-py>=2.2.0 in /opt/homebrew/Caskroom/miniconda/base/lib/python3.10/site-packages (from rich->phidata==2.5.32->-r requirements.txt (line 1)) (2.2.0)\n",
      "Requirement already satisfied: pygments<3.0.0,>=2.13.0 in /opt/homebrew/Caskroom/miniconda/base/lib/python3.10/site-packages (from rich->phidata==2.5.32->-r requirements.txt (line 1)) (2.15.1)\n",
      "Requirement already satisfied: shellingham>=1.3.0 in /opt/homebrew/Caskroom/miniconda/base/lib/python3.10/site-packages (from typer->phidata==2.5.32->-r requirements.txt (line 1)) (1.5.4)\n",
      "Requirement already satisfied: smmap<6,>=3.0.1 in /opt/homebrew/Caskroom/miniconda/base/lib/python3.10/site-packages (from gitdb<5,>=4.0.1->gitpython->phidata==2.5.32->-r requirements.txt (line 1)) (5.0.1)\n",
      "Requirement already satisfied: mdurl~=0.1 in /opt/homebrew/Caskroom/miniconda/base/lib/python3.10/site-packages (from markdown-it-py>=2.2.0->rich->phidata==2.5.32->-r requirements.txt (line 1)) (0.1.2)\n",
      "Requirement already satisfied: exceptiongroup in /opt/homebrew/Caskroom/miniconda/base/lib/python3.10/site-packages (from anyio->httpx->phidata==2.5.32->-r requirements.txt (line 1)) (1.2.0)\n"
     ]
    }
   ],
   "source": [
    "!pip install -r requirements.txt"
   ]
  },
  {
   "cell_type": "code",
   "execution_count": null,
   "id": "170291fc-28ad-4d89-baac-bbc3bcdbc80c",
   "metadata": {},
   "outputs": [],
   "source": []
  }
 ],
 "metadata": {
  "kernelspec": {
   "display_name": "Python 3 (ipykernel)",
   "language": "python",
   "name": "python3"
  },
  "language_info": {
   "codemirror_mode": {
    "name": "ipython",
    "version": 3
   },
   "file_extension": ".py",
   "mimetype": "text/x-python",
   "name": "python",
   "nbconvert_exporter": "python",
   "pygments_lexer": "ipython3",
   "version": "3.10.10"
  }
 },
 "nbformat": 4,
 "nbformat_minor": 5
}
